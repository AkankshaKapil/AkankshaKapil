{
  "nbformat": 4,
  "nbformat_minor": 0,
  "metadata": {
    "colab": {
      "provenance": [],
      "authorship_tag": "ABX9TyMc6c9h+8uxDlpOorcb0YOH",
      "include_colab_link": true
    },
    "kernelspec": {
      "name": "python3",
      "display_name": "Python 3"
    },
    "language_info": {
      "name": "python"
    },
    "widgets": {
      "application/vnd.jupyter.widget-state+json": {
        "f68c74f47fdf4b8f8929c690421fec44": {
          "model_module": "@jupyter-widgets/controls",
          "model_name": "HBoxModel",
          "model_module_version": "1.5.0",
          "state": {
            "_dom_classes": [],
            "_model_module": "@jupyter-widgets/controls",
            "_model_module_version": "1.5.0",
            "_model_name": "HBoxModel",
            "_view_count": null,
            "_view_module": "@jupyter-widgets/controls",
            "_view_module_version": "1.5.0",
            "_view_name": "HBoxView",
            "box_style": "",
            "children": [
              "IPY_MODEL_fa3506c5db164071a9be157e43ebabad",
              "IPY_MODEL_42e1dbdf12ae42d1953fe7dfc9cbfd92",
              "IPY_MODEL_ed9c9167c3e540e1acbb24dd22ddfadb"
            ],
            "layout": "IPY_MODEL_c3f2cddbd8ce473f8612b786607e1421"
          }
        },
        "fa3506c5db164071a9be157e43ebabad": {
          "model_module": "@jupyter-widgets/controls",
          "model_name": "HTMLModel",
          "model_module_version": "1.5.0",
          "state": {
            "_dom_classes": [],
            "_model_module": "@jupyter-widgets/controls",
            "_model_module_version": "1.5.0",
            "_model_name": "HTMLModel",
            "_view_count": null,
            "_view_module": "@jupyter-widgets/controls",
            "_view_module_version": "1.5.0",
            "_view_name": "HTMLView",
            "description": "",
            "description_tooltip": null,
            "layout": "IPY_MODEL_94bea26eeee049f2bb9171bbc70db0b2",
            "placeholder": "​",
            "style": "IPY_MODEL_9e30778baa1149e4893bbf5203cd6ced",
            "value": "config.json: 100%"
          }
        },
        "42e1dbdf12ae42d1953fe7dfc9cbfd92": {
          "model_module": "@jupyter-widgets/controls",
          "model_name": "FloatProgressModel",
          "model_module_version": "1.5.0",
          "state": {
            "_dom_classes": [],
            "_model_module": "@jupyter-widgets/controls",
            "_model_module_version": "1.5.0",
            "_model_name": "FloatProgressModel",
            "_view_count": null,
            "_view_module": "@jupyter-widgets/controls",
            "_view_module_version": "1.5.0",
            "_view_name": "ProgressView",
            "bar_style": "success",
            "description": "",
            "description_tooltip": null,
            "layout": "IPY_MODEL_adb7aec758ac42b8a42267f0b21378ce",
            "max": 1802,
            "min": 0,
            "orientation": "horizontal",
            "style": "IPY_MODEL_51ce70b4e24e44bead0cd2564ea92250",
            "value": 1802
          }
        },
        "ed9c9167c3e540e1acbb24dd22ddfadb": {
          "model_module": "@jupyter-widgets/controls",
          "model_name": "HTMLModel",
          "model_module_version": "1.5.0",
          "state": {
            "_dom_classes": [],
            "_model_module": "@jupyter-widgets/controls",
            "_model_module_version": "1.5.0",
            "_model_name": "HTMLModel",
            "_view_count": null,
            "_view_module": "@jupyter-widgets/controls",
            "_view_module_version": "1.5.0",
            "_view_name": "HTMLView",
            "description": "",
            "description_tooltip": null,
            "layout": "IPY_MODEL_f0fe2bcd53db4329b227b299f8efc92e",
            "placeholder": "​",
            "style": "IPY_MODEL_e2eed7c6009e4c768f84ad4adec6f8ec",
            "value": " 1.80k/1.80k [00:00&lt;00:00, 61.4kB/s]"
          }
        },
        "c3f2cddbd8ce473f8612b786607e1421": {
          "model_module": "@jupyter-widgets/base",
          "model_name": "LayoutModel",
          "model_module_version": "1.2.0",
          "state": {
            "_model_module": "@jupyter-widgets/base",
            "_model_module_version": "1.2.0",
            "_model_name": "LayoutModel",
            "_view_count": null,
            "_view_module": "@jupyter-widgets/base",
            "_view_module_version": "1.2.0",
            "_view_name": "LayoutView",
            "align_content": null,
            "align_items": null,
            "align_self": null,
            "border": null,
            "bottom": null,
            "display": null,
            "flex": null,
            "flex_flow": null,
            "grid_area": null,
            "grid_auto_columns": null,
            "grid_auto_flow": null,
            "grid_auto_rows": null,
            "grid_column": null,
            "grid_gap": null,
            "grid_row": null,
            "grid_template_areas": null,
            "grid_template_columns": null,
            "grid_template_rows": null,
            "height": null,
            "justify_content": null,
            "justify_items": null,
            "left": null,
            "margin": null,
            "max_height": null,
            "max_width": null,
            "min_height": null,
            "min_width": null,
            "object_fit": null,
            "object_position": null,
            "order": null,
            "overflow": null,
            "overflow_x": null,
            "overflow_y": null,
            "padding": null,
            "right": null,
            "top": null,
            "visibility": null,
            "width": null
          }
        },
        "94bea26eeee049f2bb9171bbc70db0b2": {
          "model_module": "@jupyter-widgets/base",
          "model_name": "LayoutModel",
          "model_module_version": "1.2.0",
          "state": {
            "_model_module": "@jupyter-widgets/base",
            "_model_module_version": "1.2.0",
            "_model_name": "LayoutModel",
            "_view_count": null,
            "_view_module": "@jupyter-widgets/base",
            "_view_module_version": "1.2.0",
            "_view_name": "LayoutView",
            "align_content": null,
            "align_items": null,
            "align_self": null,
            "border": null,
            "bottom": null,
            "display": null,
            "flex": null,
            "flex_flow": null,
            "grid_area": null,
            "grid_auto_columns": null,
            "grid_auto_flow": null,
            "grid_auto_rows": null,
            "grid_column": null,
            "grid_gap": null,
            "grid_row": null,
            "grid_template_areas": null,
            "grid_template_columns": null,
            "grid_template_rows": null,
            "height": null,
            "justify_content": null,
            "justify_items": null,
            "left": null,
            "margin": null,
            "max_height": null,
            "max_width": null,
            "min_height": null,
            "min_width": null,
            "object_fit": null,
            "object_position": null,
            "order": null,
            "overflow": null,
            "overflow_x": null,
            "overflow_y": null,
            "padding": null,
            "right": null,
            "top": null,
            "visibility": null,
            "width": null
          }
        },
        "9e30778baa1149e4893bbf5203cd6ced": {
          "model_module": "@jupyter-widgets/controls",
          "model_name": "DescriptionStyleModel",
          "model_module_version": "1.5.0",
          "state": {
            "_model_module": "@jupyter-widgets/controls",
            "_model_module_version": "1.5.0",
            "_model_name": "DescriptionStyleModel",
            "_view_count": null,
            "_view_module": "@jupyter-widgets/base",
            "_view_module_version": "1.2.0",
            "_view_name": "StyleView",
            "description_width": ""
          }
        },
        "adb7aec758ac42b8a42267f0b21378ce": {
          "model_module": "@jupyter-widgets/base",
          "model_name": "LayoutModel",
          "model_module_version": "1.2.0",
          "state": {
            "_model_module": "@jupyter-widgets/base",
            "_model_module_version": "1.2.0",
            "_model_name": "LayoutModel",
            "_view_count": null,
            "_view_module": "@jupyter-widgets/base",
            "_view_module_version": "1.2.0",
            "_view_name": "LayoutView",
            "align_content": null,
            "align_items": null,
            "align_self": null,
            "border": null,
            "bottom": null,
            "display": null,
            "flex": null,
            "flex_flow": null,
            "grid_area": null,
            "grid_auto_columns": null,
            "grid_auto_flow": null,
            "grid_auto_rows": null,
            "grid_column": null,
            "grid_gap": null,
            "grid_row": null,
            "grid_template_areas": null,
            "grid_template_columns": null,
            "grid_template_rows": null,
            "height": null,
            "justify_content": null,
            "justify_items": null,
            "left": null,
            "margin": null,
            "max_height": null,
            "max_width": null,
            "min_height": null,
            "min_width": null,
            "object_fit": null,
            "object_position": null,
            "order": null,
            "overflow": null,
            "overflow_x": null,
            "overflow_y": null,
            "padding": null,
            "right": null,
            "top": null,
            "visibility": null,
            "width": null
          }
        },
        "51ce70b4e24e44bead0cd2564ea92250": {
          "model_module": "@jupyter-widgets/controls",
          "model_name": "ProgressStyleModel",
          "model_module_version": "1.5.0",
          "state": {
            "_model_module": "@jupyter-widgets/controls",
            "_model_module_version": "1.5.0",
            "_model_name": "ProgressStyleModel",
            "_view_count": null,
            "_view_module": "@jupyter-widgets/base",
            "_view_module_version": "1.2.0",
            "_view_name": "StyleView",
            "bar_color": null,
            "description_width": ""
          }
        },
        "f0fe2bcd53db4329b227b299f8efc92e": {
          "model_module": "@jupyter-widgets/base",
          "model_name": "LayoutModel",
          "model_module_version": "1.2.0",
          "state": {
            "_model_module": "@jupyter-widgets/base",
            "_model_module_version": "1.2.0",
            "_model_name": "LayoutModel",
            "_view_count": null,
            "_view_module": "@jupyter-widgets/base",
            "_view_module_version": "1.2.0",
            "_view_name": "LayoutView",
            "align_content": null,
            "align_items": null,
            "align_self": null,
            "border": null,
            "bottom": null,
            "display": null,
            "flex": null,
            "flex_flow": null,
            "grid_area": null,
            "grid_auto_columns": null,
            "grid_auto_flow": null,
            "grid_auto_rows": null,
            "grid_column": null,
            "grid_gap": null,
            "grid_row": null,
            "grid_template_areas": null,
            "grid_template_columns": null,
            "grid_template_rows": null,
            "height": null,
            "justify_content": null,
            "justify_items": null,
            "left": null,
            "margin": null,
            "max_height": null,
            "max_width": null,
            "min_height": null,
            "min_width": null,
            "object_fit": null,
            "object_position": null,
            "order": null,
            "overflow": null,
            "overflow_x": null,
            "overflow_y": null,
            "padding": null,
            "right": null,
            "top": null,
            "visibility": null,
            "width": null
          }
        },
        "e2eed7c6009e4c768f84ad4adec6f8ec": {
          "model_module": "@jupyter-widgets/controls",
          "model_name": "DescriptionStyleModel",
          "model_module_version": "1.5.0",
          "state": {
            "_model_module": "@jupyter-widgets/controls",
            "_model_module_version": "1.5.0",
            "_model_name": "DescriptionStyleModel",
            "_view_count": null,
            "_view_module": "@jupyter-widgets/base",
            "_view_module_version": "1.2.0",
            "_view_name": "StyleView",
            "description_width": ""
          }
        },
        "6aa514f1a597487f9708a9c64eea77d4": {
          "model_module": "@jupyter-widgets/controls",
          "model_name": "HBoxModel",
          "model_module_version": "1.5.0",
          "state": {
            "_dom_classes": [],
            "_model_module": "@jupyter-widgets/controls",
            "_model_module_version": "1.5.0",
            "_model_name": "HBoxModel",
            "_view_count": null,
            "_view_module": "@jupyter-widgets/controls",
            "_view_module_version": "1.5.0",
            "_view_name": "HBoxView",
            "box_style": "",
            "children": [
              "IPY_MODEL_db4a8a40b9bc4e818593b69fc96e1ef1",
              "IPY_MODEL_3215e663f2264d4eae69d55588c3c62d",
              "IPY_MODEL_8363d3f6b8f74b19a00a17020a6c3b6a"
            ],
            "layout": "IPY_MODEL_35ca835bacd74947bcde41dc0f5524cd"
          }
        },
        "db4a8a40b9bc4e818593b69fc96e1ef1": {
          "model_module": "@jupyter-widgets/controls",
          "model_name": "HTMLModel",
          "model_module_version": "1.5.0",
          "state": {
            "_dom_classes": [],
            "_model_module": "@jupyter-widgets/controls",
            "_model_module_version": "1.5.0",
            "_model_name": "HTMLModel",
            "_view_count": null,
            "_view_module": "@jupyter-widgets/controls",
            "_view_module_version": "1.5.0",
            "_view_name": "HTMLView",
            "description": "",
            "description_tooltip": null,
            "layout": "IPY_MODEL_a8a480708b504b42843db452130c4331",
            "placeholder": "​",
            "style": "IPY_MODEL_3e9a18af59b747a88678881b441664fd",
            "value": "pytorch_model.bin: 100%"
          }
        },
        "3215e663f2264d4eae69d55588c3c62d": {
          "model_module": "@jupyter-widgets/controls",
          "model_name": "FloatProgressModel",
          "model_module_version": "1.5.0",
          "state": {
            "_dom_classes": [],
            "_model_module": "@jupyter-widgets/controls",
            "_model_module_version": "1.5.0",
            "_model_name": "FloatProgressModel",
            "_view_count": null,
            "_view_module": "@jupyter-widgets/controls",
            "_view_module_version": "1.5.0",
            "_view_name": "ProgressView",
            "bar_style": "success",
            "description": "",
            "description_tooltip": null,
            "layout": "IPY_MODEL_422528c4265f47bd8d7efd339aa6789b",
            "max": 1222317369,
            "min": 0,
            "orientation": "horizontal",
            "style": "IPY_MODEL_3f6575cac2ad47479c8977037ad906ee",
            "value": 1222317369
          }
        },
        "8363d3f6b8f74b19a00a17020a6c3b6a": {
          "model_module": "@jupyter-widgets/controls",
          "model_name": "HTMLModel",
          "model_module_version": "1.5.0",
          "state": {
            "_dom_classes": [],
            "_model_module": "@jupyter-widgets/controls",
            "_model_module_version": "1.5.0",
            "_model_name": "HTMLModel",
            "_view_count": null,
            "_view_module": "@jupyter-widgets/controls",
            "_view_module_version": "1.5.0",
            "_view_name": "HTMLView",
            "description": "",
            "description_tooltip": null,
            "layout": "IPY_MODEL_4281502d901b45e8afabbff3dd2ae752",
            "placeholder": "​",
            "style": "IPY_MODEL_7403bebb78894f97a7f4e551303e84bf",
            "value": " 1.22G/1.22G [00:12&lt;00:00, 123MB/s]"
          }
        },
        "35ca835bacd74947bcde41dc0f5524cd": {
          "model_module": "@jupyter-widgets/base",
          "model_name": "LayoutModel",
          "model_module_version": "1.2.0",
          "state": {
            "_model_module": "@jupyter-widgets/base",
            "_model_module_version": "1.2.0",
            "_model_name": "LayoutModel",
            "_view_count": null,
            "_view_module": "@jupyter-widgets/base",
            "_view_module_version": "1.2.0",
            "_view_name": "LayoutView",
            "align_content": null,
            "align_items": null,
            "align_self": null,
            "border": null,
            "bottom": null,
            "display": null,
            "flex": null,
            "flex_flow": null,
            "grid_area": null,
            "grid_auto_columns": null,
            "grid_auto_flow": null,
            "grid_auto_rows": null,
            "grid_column": null,
            "grid_gap": null,
            "grid_row": null,
            "grid_template_areas": null,
            "grid_template_columns": null,
            "grid_template_rows": null,
            "height": null,
            "justify_content": null,
            "justify_items": null,
            "left": null,
            "margin": null,
            "max_height": null,
            "max_width": null,
            "min_height": null,
            "min_width": null,
            "object_fit": null,
            "object_position": null,
            "order": null,
            "overflow": null,
            "overflow_x": null,
            "overflow_y": null,
            "padding": null,
            "right": null,
            "top": null,
            "visibility": null,
            "width": null
          }
        },
        "a8a480708b504b42843db452130c4331": {
          "model_module": "@jupyter-widgets/base",
          "model_name": "LayoutModel",
          "model_module_version": "1.2.0",
          "state": {
            "_model_module": "@jupyter-widgets/base",
            "_model_module_version": "1.2.0",
            "_model_name": "LayoutModel",
            "_view_count": null,
            "_view_module": "@jupyter-widgets/base",
            "_view_module_version": "1.2.0",
            "_view_name": "LayoutView",
            "align_content": null,
            "align_items": null,
            "align_self": null,
            "border": null,
            "bottom": null,
            "display": null,
            "flex": null,
            "flex_flow": null,
            "grid_area": null,
            "grid_auto_columns": null,
            "grid_auto_flow": null,
            "grid_auto_rows": null,
            "grid_column": null,
            "grid_gap": null,
            "grid_row": null,
            "grid_template_areas": null,
            "grid_template_columns": null,
            "grid_template_rows": null,
            "height": null,
            "justify_content": null,
            "justify_items": null,
            "left": null,
            "margin": null,
            "max_height": null,
            "max_width": null,
            "min_height": null,
            "min_width": null,
            "object_fit": null,
            "object_position": null,
            "order": null,
            "overflow": null,
            "overflow_x": null,
            "overflow_y": null,
            "padding": null,
            "right": null,
            "top": null,
            "visibility": null,
            "width": null
          }
        },
        "3e9a18af59b747a88678881b441664fd": {
          "model_module": "@jupyter-widgets/controls",
          "model_name": "DescriptionStyleModel",
          "model_module_version": "1.5.0",
          "state": {
            "_model_module": "@jupyter-widgets/controls",
            "_model_module_version": "1.5.0",
            "_model_name": "DescriptionStyleModel",
            "_view_count": null,
            "_view_module": "@jupyter-widgets/base",
            "_view_module_version": "1.2.0",
            "_view_name": "StyleView",
            "description_width": ""
          }
        },
        "422528c4265f47bd8d7efd339aa6789b": {
          "model_module": "@jupyter-widgets/base",
          "model_name": "LayoutModel",
          "model_module_version": "1.2.0",
          "state": {
            "_model_module": "@jupyter-widgets/base",
            "_model_module_version": "1.2.0",
            "_model_name": "LayoutModel",
            "_view_count": null,
            "_view_module": "@jupyter-widgets/base",
            "_view_module_version": "1.2.0",
            "_view_name": "LayoutView",
            "align_content": null,
            "align_items": null,
            "align_self": null,
            "border": null,
            "bottom": null,
            "display": null,
            "flex": null,
            "flex_flow": null,
            "grid_area": null,
            "grid_auto_columns": null,
            "grid_auto_flow": null,
            "grid_auto_rows": null,
            "grid_column": null,
            "grid_gap": null,
            "grid_row": null,
            "grid_template_areas": null,
            "grid_template_columns": null,
            "grid_template_rows": null,
            "height": null,
            "justify_content": null,
            "justify_items": null,
            "left": null,
            "margin": null,
            "max_height": null,
            "max_width": null,
            "min_height": null,
            "min_width": null,
            "object_fit": null,
            "object_position": null,
            "order": null,
            "overflow": null,
            "overflow_x": null,
            "overflow_y": null,
            "padding": null,
            "right": null,
            "top": null,
            "visibility": null,
            "width": null
          }
        },
        "3f6575cac2ad47479c8977037ad906ee": {
          "model_module": "@jupyter-widgets/controls",
          "model_name": "ProgressStyleModel",
          "model_module_version": "1.5.0",
          "state": {
            "_model_module": "@jupyter-widgets/controls",
            "_model_module_version": "1.5.0",
            "_model_name": "ProgressStyleModel",
            "_view_count": null,
            "_view_module": "@jupyter-widgets/base",
            "_view_module_version": "1.2.0",
            "_view_name": "StyleView",
            "bar_color": null,
            "description_width": ""
          }
        },
        "4281502d901b45e8afabbff3dd2ae752": {
          "model_module": "@jupyter-widgets/base",
          "model_name": "LayoutModel",
          "model_module_version": "1.2.0",
          "state": {
            "_model_module": "@jupyter-widgets/base",
            "_model_module_version": "1.2.0",
            "_model_name": "LayoutModel",
            "_view_count": null,
            "_view_module": "@jupyter-widgets/base",
            "_view_module_version": "1.2.0",
            "_view_name": "LayoutView",
            "align_content": null,
            "align_items": null,
            "align_self": null,
            "border": null,
            "bottom": null,
            "display": null,
            "flex": null,
            "flex_flow": null,
            "grid_area": null,
            "grid_auto_columns": null,
            "grid_auto_flow": null,
            "grid_auto_rows": null,
            "grid_column": null,
            "grid_gap": null,
            "grid_row": null,
            "grid_template_areas": null,
            "grid_template_columns": null,
            "grid_template_rows": null,
            "height": null,
            "justify_content": null,
            "justify_items": null,
            "left": null,
            "margin": null,
            "max_height": null,
            "max_width": null,
            "min_height": null,
            "min_width": null,
            "object_fit": null,
            "object_position": null,
            "order": null,
            "overflow": null,
            "overflow_x": null,
            "overflow_y": null,
            "padding": null,
            "right": null,
            "top": null,
            "visibility": null,
            "width": null
          }
        },
        "7403bebb78894f97a7f4e551303e84bf": {
          "model_module": "@jupyter-widgets/controls",
          "model_name": "DescriptionStyleModel",
          "model_module_version": "1.5.0",
          "state": {
            "_model_module": "@jupyter-widgets/controls",
            "_model_module_version": "1.5.0",
            "_model_name": "DescriptionStyleModel",
            "_view_count": null,
            "_view_module": "@jupyter-widgets/base",
            "_view_module_version": "1.2.0",
            "_view_name": "StyleView",
            "description_width": ""
          }
        },
        "71d2048d71ec4620b7599df584e86060": {
          "model_module": "@jupyter-widgets/controls",
          "model_name": "HBoxModel",
          "model_module_version": "1.5.0",
          "state": {
            "_dom_classes": [],
            "_model_module": "@jupyter-widgets/controls",
            "_model_module_version": "1.5.0",
            "_model_name": "HBoxModel",
            "_view_count": null,
            "_view_module": "@jupyter-widgets/controls",
            "_view_module_version": "1.5.0",
            "_view_name": "HBoxView",
            "box_style": "",
            "children": [
              "IPY_MODEL_a5aad14e047b405cbb78c658ab0d294d",
              "IPY_MODEL_ce4ae224c21645e7b97ee886c7b8b2ac",
              "IPY_MODEL_558dba0b2f5f4a33bd01e767bd1f76aa"
            ],
            "layout": "IPY_MODEL_3349b6d6b09b43b48c0746272d91870a"
          }
        },
        "a5aad14e047b405cbb78c658ab0d294d": {
          "model_module": "@jupyter-widgets/controls",
          "model_name": "HTMLModel",
          "model_module_version": "1.5.0",
          "state": {
            "_dom_classes": [],
            "_model_module": "@jupyter-widgets/controls",
            "_model_module_version": "1.5.0",
            "_model_name": "HTMLModel",
            "_view_count": null,
            "_view_module": "@jupyter-widgets/controls",
            "_view_module_version": "1.5.0",
            "_view_name": "HTMLView",
            "description": "",
            "description_tooltip": null,
            "layout": "IPY_MODEL_be37f191b68b41c380bd8fbb20dc8dcf",
            "placeholder": "​",
            "style": "IPY_MODEL_e2a05d9cceae45b7b2bd8a1b8c43a7f2",
            "value": "tokenizer_config.json: 100%"
          }
        },
        "ce4ae224c21645e7b97ee886c7b8b2ac": {
          "model_module": "@jupyter-widgets/controls",
          "model_name": "FloatProgressModel",
          "model_module_version": "1.5.0",
          "state": {
            "_dom_classes": [],
            "_model_module": "@jupyter-widgets/controls",
            "_model_module_version": "1.5.0",
            "_model_name": "FloatProgressModel",
            "_view_count": null,
            "_view_module": "@jupyter-widgets/controls",
            "_view_module_version": "1.5.0",
            "_view_name": "ProgressView",
            "bar_style": "success",
            "description": "",
            "description_tooltip": null,
            "layout": "IPY_MODEL_8b30bfd7f8414b1b8bafb51908a4d02c",
            "max": 26,
            "min": 0,
            "orientation": "horizontal",
            "style": "IPY_MODEL_7985324db56a4cf3ad5da61e4c435268",
            "value": 26
          }
        },
        "558dba0b2f5f4a33bd01e767bd1f76aa": {
          "model_module": "@jupyter-widgets/controls",
          "model_name": "HTMLModel",
          "model_module_version": "1.5.0",
          "state": {
            "_dom_classes": [],
            "_model_module": "@jupyter-widgets/controls",
            "_model_module_version": "1.5.0",
            "_model_name": "HTMLModel",
            "_view_count": null,
            "_view_module": "@jupyter-widgets/controls",
            "_view_module_version": "1.5.0",
            "_view_name": "HTMLView",
            "description": "",
            "description_tooltip": null,
            "layout": "IPY_MODEL_5374448c12834e1e8f5785ad1f0a5d07",
            "placeholder": "​",
            "style": "IPY_MODEL_322b6ceca4314eee8e0c18f5561a99df",
            "value": " 26.0/26.0 [00:00&lt;00:00, 1.32kB/s]"
          }
        },
        "3349b6d6b09b43b48c0746272d91870a": {
          "model_module": "@jupyter-widgets/base",
          "model_name": "LayoutModel",
          "model_module_version": "1.2.0",
          "state": {
            "_model_module": "@jupyter-widgets/base",
            "_model_module_version": "1.2.0",
            "_model_name": "LayoutModel",
            "_view_count": null,
            "_view_module": "@jupyter-widgets/base",
            "_view_module_version": "1.2.0",
            "_view_name": "LayoutView",
            "align_content": null,
            "align_items": null,
            "align_self": null,
            "border": null,
            "bottom": null,
            "display": null,
            "flex": null,
            "flex_flow": null,
            "grid_area": null,
            "grid_auto_columns": null,
            "grid_auto_flow": null,
            "grid_auto_rows": null,
            "grid_column": null,
            "grid_gap": null,
            "grid_row": null,
            "grid_template_areas": null,
            "grid_template_columns": null,
            "grid_template_rows": null,
            "height": null,
            "justify_content": null,
            "justify_items": null,
            "left": null,
            "margin": null,
            "max_height": null,
            "max_width": null,
            "min_height": null,
            "min_width": null,
            "object_fit": null,
            "object_position": null,
            "order": null,
            "overflow": null,
            "overflow_x": null,
            "overflow_y": null,
            "padding": null,
            "right": null,
            "top": null,
            "visibility": null,
            "width": null
          }
        },
        "be37f191b68b41c380bd8fbb20dc8dcf": {
          "model_module": "@jupyter-widgets/base",
          "model_name": "LayoutModel",
          "model_module_version": "1.2.0",
          "state": {
            "_model_module": "@jupyter-widgets/base",
            "_model_module_version": "1.2.0",
            "_model_name": "LayoutModel",
            "_view_count": null,
            "_view_module": "@jupyter-widgets/base",
            "_view_module_version": "1.2.0",
            "_view_name": "LayoutView",
            "align_content": null,
            "align_items": null,
            "align_self": null,
            "border": null,
            "bottom": null,
            "display": null,
            "flex": null,
            "flex_flow": null,
            "grid_area": null,
            "grid_auto_columns": null,
            "grid_auto_flow": null,
            "grid_auto_rows": null,
            "grid_column": null,
            "grid_gap": null,
            "grid_row": null,
            "grid_template_areas": null,
            "grid_template_columns": null,
            "grid_template_rows": null,
            "height": null,
            "justify_content": null,
            "justify_items": null,
            "left": null,
            "margin": null,
            "max_height": null,
            "max_width": null,
            "min_height": null,
            "min_width": null,
            "object_fit": null,
            "object_position": null,
            "order": null,
            "overflow": null,
            "overflow_x": null,
            "overflow_y": null,
            "padding": null,
            "right": null,
            "top": null,
            "visibility": null,
            "width": null
          }
        },
        "e2a05d9cceae45b7b2bd8a1b8c43a7f2": {
          "model_module": "@jupyter-widgets/controls",
          "model_name": "DescriptionStyleModel",
          "model_module_version": "1.5.0",
          "state": {
            "_model_module": "@jupyter-widgets/controls",
            "_model_module_version": "1.5.0",
            "_model_name": "DescriptionStyleModel",
            "_view_count": null,
            "_view_module": "@jupyter-widgets/base",
            "_view_module_version": "1.2.0",
            "_view_name": "StyleView",
            "description_width": ""
          }
        },
        "8b30bfd7f8414b1b8bafb51908a4d02c": {
          "model_module": "@jupyter-widgets/base",
          "model_name": "LayoutModel",
          "model_module_version": "1.2.0",
          "state": {
            "_model_module": "@jupyter-widgets/base",
            "_model_module_version": "1.2.0",
            "_model_name": "LayoutModel",
            "_view_count": null,
            "_view_module": "@jupyter-widgets/base",
            "_view_module_version": "1.2.0",
            "_view_name": "LayoutView",
            "align_content": null,
            "align_items": null,
            "align_self": null,
            "border": null,
            "bottom": null,
            "display": null,
            "flex": null,
            "flex_flow": null,
            "grid_area": null,
            "grid_auto_columns": null,
            "grid_auto_flow": null,
            "grid_auto_rows": null,
            "grid_column": null,
            "grid_gap": null,
            "grid_row": null,
            "grid_template_areas": null,
            "grid_template_columns": null,
            "grid_template_rows": null,
            "height": null,
            "justify_content": null,
            "justify_items": null,
            "left": null,
            "margin": null,
            "max_height": null,
            "max_width": null,
            "min_height": null,
            "min_width": null,
            "object_fit": null,
            "object_position": null,
            "order": null,
            "overflow": null,
            "overflow_x": null,
            "overflow_y": null,
            "padding": null,
            "right": null,
            "top": null,
            "visibility": null,
            "width": null
          }
        },
        "7985324db56a4cf3ad5da61e4c435268": {
          "model_module": "@jupyter-widgets/controls",
          "model_name": "ProgressStyleModel",
          "model_module_version": "1.5.0",
          "state": {
            "_model_module": "@jupyter-widgets/controls",
            "_model_module_version": "1.5.0",
            "_model_name": "ProgressStyleModel",
            "_view_count": null,
            "_view_module": "@jupyter-widgets/base",
            "_view_module_version": "1.2.0",
            "_view_name": "StyleView",
            "bar_color": null,
            "description_width": ""
          }
        },
        "5374448c12834e1e8f5785ad1f0a5d07": {
          "model_module": "@jupyter-widgets/base",
          "model_name": "LayoutModel",
          "model_module_version": "1.2.0",
          "state": {
            "_model_module": "@jupyter-widgets/base",
            "_model_module_version": "1.2.0",
            "_model_name": "LayoutModel",
            "_view_count": null,
            "_view_module": "@jupyter-widgets/base",
            "_view_module_version": "1.2.0",
            "_view_name": "LayoutView",
            "align_content": null,
            "align_items": null,
            "align_self": null,
            "border": null,
            "bottom": null,
            "display": null,
            "flex": null,
            "flex_flow": null,
            "grid_area": null,
            "grid_auto_columns": null,
            "grid_auto_flow": null,
            "grid_auto_rows": null,
            "grid_column": null,
            "grid_gap": null,
            "grid_row": null,
            "grid_template_areas": null,
            "grid_template_columns": null,
            "grid_template_rows": null,
            "height": null,
            "justify_content": null,
            "justify_items": null,
            "left": null,
            "margin": null,
            "max_height": null,
            "max_width": null,
            "min_height": null,
            "min_width": null,
            "object_fit": null,
            "object_position": null,
            "order": null,
            "overflow": null,
            "overflow_x": null,
            "overflow_y": null,
            "padding": null,
            "right": null,
            "top": null,
            "visibility": null,
            "width": null
          }
        },
        "322b6ceca4314eee8e0c18f5561a99df": {
          "model_module": "@jupyter-widgets/controls",
          "model_name": "DescriptionStyleModel",
          "model_module_version": "1.5.0",
          "state": {
            "_model_module": "@jupyter-widgets/controls",
            "_model_module_version": "1.5.0",
            "_model_name": "DescriptionStyleModel",
            "_view_count": null,
            "_view_module": "@jupyter-widgets/base",
            "_view_module_version": "1.2.0",
            "_view_name": "StyleView",
            "description_width": ""
          }
        },
        "b43103df8bc04e4b8742e29e48feebc9": {
          "model_module": "@jupyter-widgets/controls",
          "model_name": "HBoxModel",
          "model_module_version": "1.5.0",
          "state": {
            "_dom_classes": [],
            "_model_module": "@jupyter-widgets/controls",
            "_model_module_version": "1.5.0",
            "_model_name": "HBoxModel",
            "_view_count": null,
            "_view_module": "@jupyter-widgets/controls",
            "_view_module_version": "1.5.0",
            "_view_name": "HBoxView",
            "box_style": "",
            "children": [
              "IPY_MODEL_dec7790d66f74a0aa8bf3a2bc4b669a2",
              "IPY_MODEL_5217cb6134464d7ea5b04c0e09b186a8",
              "IPY_MODEL_da69302c329f4f8593d367b45b8f6626"
            ],
            "layout": "IPY_MODEL_1ce9a2d0731446baa4c8e59f6905c053"
          }
        },
        "dec7790d66f74a0aa8bf3a2bc4b669a2": {
          "model_module": "@jupyter-widgets/controls",
          "model_name": "HTMLModel",
          "model_module_version": "1.5.0",
          "state": {
            "_dom_classes": [],
            "_model_module": "@jupyter-widgets/controls",
            "_model_module_version": "1.5.0",
            "_model_name": "HTMLModel",
            "_view_count": null,
            "_view_module": "@jupyter-widgets/controls",
            "_view_module_version": "1.5.0",
            "_view_name": "HTMLView",
            "description": "",
            "description_tooltip": null,
            "layout": "IPY_MODEL_f524f1af6d374ee392cd1e82177699d4",
            "placeholder": "​",
            "style": "IPY_MODEL_652c459be14245609637eae54b936c53",
            "value": "vocab.json: 100%"
          }
        },
        "5217cb6134464d7ea5b04c0e09b186a8": {
          "model_module": "@jupyter-widgets/controls",
          "model_name": "FloatProgressModel",
          "model_module_version": "1.5.0",
          "state": {
            "_dom_classes": [],
            "_model_module": "@jupyter-widgets/controls",
            "_model_module_version": "1.5.0",
            "_model_name": "FloatProgressModel",
            "_view_count": null,
            "_view_module": "@jupyter-widgets/controls",
            "_view_module_version": "1.5.0",
            "_view_name": "ProgressView",
            "bar_style": "success",
            "description": "",
            "description_tooltip": null,
            "layout": "IPY_MODEL_75d8e65e38334a22a6e37aecb08bf524",
            "max": 898822,
            "min": 0,
            "orientation": "horizontal",
            "style": "IPY_MODEL_a27676000cd54e3d99f66b2d3af75160",
            "value": 898822
          }
        },
        "da69302c329f4f8593d367b45b8f6626": {
          "model_module": "@jupyter-widgets/controls",
          "model_name": "HTMLModel",
          "model_module_version": "1.5.0",
          "state": {
            "_dom_classes": [],
            "_model_module": "@jupyter-widgets/controls",
            "_model_module_version": "1.5.0",
            "_model_name": "HTMLModel",
            "_view_count": null,
            "_view_module": "@jupyter-widgets/controls",
            "_view_module_version": "1.5.0",
            "_view_name": "HTMLView",
            "description": "",
            "description_tooltip": null,
            "layout": "IPY_MODEL_558a0fcef6d14da4b996053395e5008f",
            "placeholder": "​",
            "style": "IPY_MODEL_11d68c8727d94c1fbd15e45d7ed2b336",
            "value": " 899k/899k [00:00&lt;00:00, 7.07MB/s]"
          }
        },
        "1ce9a2d0731446baa4c8e59f6905c053": {
          "model_module": "@jupyter-widgets/base",
          "model_name": "LayoutModel",
          "model_module_version": "1.2.0",
          "state": {
            "_model_module": "@jupyter-widgets/base",
            "_model_module_version": "1.2.0",
            "_model_name": "LayoutModel",
            "_view_count": null,
            "_view_module": "@jupyter-widgets/base",
            "_view_module_version": "1.2.0",
            "_view_name": "LayoutView",
            "align_content": null,
            "align_items": null,
            "align_self": null,
            "border": null,
            "bottom": null,
            "display": null,
            "flex": null,
            "flex_flow": null,
            "grid_area": null,
            "grid_auto_columns": null,
            "grid_auto_flow": null,
            "grid_auto_rows": null,
            "grid_column": null,
            "grid_gap": null,
            "grid_row": null,
            "grid_template_areas": null,
            "grid_template_columns": null,
            "grid_template_rows": null,
            "height": null,
            "justify_content": null,
            "justify_items": null,
            "left": null,
            "margin": null,
            "max_height": null,
            "max_width": null,
            "min_height": null,
            "min_width": null,
            "object_fit": null,
            "object_position": null,
            "order": null,
            "overflow": null,
            "overflow_x": null,
            "overflow_y": null,
            "padding": null,
            "right": null,
            "top": null,
            "visibility": null,
            "width": null
          }
        },
        "f524f1af6d374ee392cd1e82177699d4": {
          "model_module": "@jupyter-widgets/base",
          "model_name": "LayoutModel",
          "model_module_version": "1.2.0",
          "state": {
            "_model_module": "@jupyter-widgets/base",
            "_model_module_version": "1.2.0",
            "_model_name": "LayoutModel",
            "_view_count": null,
            "_view_module": "@jupyter-widgets/base",
            "_view_module_version": "1.2.0",
            "_view_name": "LayoutView",
            "align_content": null,
            "align_items": null,
            "align_self": null,
            "border": null,
            "bottom": null,
            "display": null,
            "flex": null,
            "flex_flow": null,
            "grid_area": null,
            "grid_auto_columns": null,
            "grid_auto_flow": null,
            "grid_auto_rows": null,
            "grid_column": null,
            "grid_gap": null,
            "grid_row": null,
            "grid_template_areas": null,
            "grid_template_columns": null,
            "grid_template_rows": null,
            "height": null,
            "justify_content": null,
            "justify_items": null,
            "left": null,
            "margin": null,
            "max_height": null,
            "max_width": null,
            "min_height": null,
            "min_width": null,
            "object_fit": null,
            "object_position": null,
            "order": null,
            "overflow": null,
            "overflow_x": null,
            "overflow_y": null,
            "padding": null,
            "right": null,
            "top": null,
            "visibility": null,
            "width": null
          }
        },
        "652c459be14245609637eae54b936c53": {
          "model_module": "@jupyter-widgets/controls",
          "model_name": "DescriptionStyleModel",
          "model_module_version": "1.5.0",
          "state": {
            "_model_module": "@jupyter-widgets/controls",
            "_model_module_version": "1.5.0",
            "_model_name": "DescriptionStyleModel",
            "_view_count": null,
            "_view_module": "@jupyter-widgets/base",
            "_view_module_version": "1.2.0",
            "_view_name": "StyleView",
            "description_width": ""
          }
        },
        "75d8e65e38334a22a6e37aecb08bf524": {
          "model_module": "@jupyter-widgets/base",
          "model_name": "LayoutModel",
          "model_module_version": "1.2.0",
          "state": {
            "_model_module": "@jupyter-widgets/base",
            "_model_module_version": "1.2.0",
            "_model_name": "LayoutModel",
            "_view_count": null,
            "_view_module": "@jupyter-widgets/base",
            "_view_module_version": "1.2.0",
            "_view_name": "LayoutView",
            "align_content": null,
            "align_items": null,
            "align_self": null,
            "border": null,
            "bottom": null,
            "display": null,
            "flex": null,
            "flex_flow": null,
            "grid_area": null,
            "grid_auto_columns": null,
            "grid_auto_flow": null,
            "grid_auto_rows": null,
            "grid_column": null,
            "grid_gap": null,
            "grid_row": null,
            "grid_template_areas": null,
            "grid_template_columns": null,
            "grid_template_rows": null,
            "height": null,
            "justify_content": null,
            "justify_items": null,
            "left": null,
            "margin": null,
            "max_height": null,
            "max_width": null,
            "min_height": null,
            "min_width": null,
            "object_fit": null,
            "object_position": null,
            "order": null,
            "overflow": null,
            "overflow_x": null,
            "overflow_y": null,
            "padding": null,
            "right": null,
            "top": null,
            "visibility": null,
            "width": null
          }
        },
        "a27676000cd54e3d99f66b2d3af75160": {
          "model_module": "@jupyter-widgets/controls",
          "model_name": "ProgressStyleModel",
          "model_module_version": "1.5.0",
          "state": {
            "_model_module": "@jupyter-widgets/controls",
            "_model_module_version": "1.5.0",
            "_model_name": "ProgressStyleModel",
            "_view_count": null,
            "_view_module": "@jupyter-widgets/base",
            "_view_module_version": "1.2.0",
            "_view_name": "StyleView",
            "bar_color": null,
            "description_width": ""
          }
        },
        "558a0fcef6d14da4b996053395e5008f": {
          "model_module": "@jupyter-widgets/base",
          "model_name": "LayoutModel",
          "model_module_version": "1.2.0",
          "state": {
            "_model_module": "@jupyter-widgets/base",
            "_model_module_version": "1.2.0",
            "_model_name": "LayoutModel",
            "_view_count": null,
            "_view_module": "@jupyter-widgets/base",
            "_view_module_version": "1.2.0",
            "_view_name": "LayoutView",
            "align_content": null,
            "align_items": null,
            "align_self": null,
            "border": null,
            "bottom": null,
            "display": null,
            "flex": null,
            "flex_flow": null,
            "grid_area": null,
            "grid_auto_columns": null,
            "grid_auto_flow": null,
            "grid_auto_rows": null,
            "grid_column": null,
            "grid_gap": null,
            "grid_row": null,
            "grid_template_areas": null,
            "grid_template_columns": null,
            "grid_template_rows": null,
            "height": null,
            "justify_content": null,
            "justify_items": null,
            "left": null,
            "margin": null,
            "max_height": null,
            "max_width": null,
            "min_height": null,
            "min_width": null,
            "object_fit": null,
            "object_position": null,
            "order": null,
            "overflow": null,
            "overflow_x": null,
            "overflow_y": null,
            "padding": null,
            "right": null,
            "top": null,
            "visibility": null,
            "width": null
          }
        },
        "11d68c8727d94c1fbd15e45d7ed2b336": {
          "model_module": "@jupyter-widgets/controls",
          "model_name": "DescriptionStyleModel",
          "model_module_version": "1.5.0",
          "state": {
            "_model_module": "@jupyter-widgets/controls",
            "_model_module_version": "1.5.0",
            "_model_name": "DescriptionStyleModel",
            "_view_count": null,
            "_view_module": "@jupyter-widgets/base",
            "_view_module_version": "1.2.0",
            "_view_name": "StyleView",
            "description_width": ""
          }
        },
        "113fa14c3a3943c78ab8ef2f9775953f": {
          "model_module": "@jupyter-widgets/controls",
          "model_name": "HBoxModel",
          "model_module_version": "1.5.0",
          "state": {
            "_dom_classes": [],
            "_model_module": "@jupyter-widgets/controls",
            "_model_module_version": "1.5.0",
            "_model_name": "HBoxModel",
            "_view_count": null,
            "_view_module": "@jupyter-widgets/controls",
            "_view_module_version": "1.5.0",
            "_view_name": "HBoxView",
            "box_style": "",
            "children": [
              "IPY_MODEL_77680c2ccea2412ba7f94a7f0de4470a",
              "IPY_MODEL_65d5ddddf8154164a7d12a931ad5a89b",
              "IPY_MODEL_76752b002f9f456ba6763ad4f964ea77"
            ],
            "layout": "IPY_MODEL_7b5b9b468c9f49f3be4b47b1faea6f7c"
          }
        },
        "77680c2ccea2412ba7f94a7f0de4470a": {
          "model_module": "@jupyter-widgets/controls",
          "model_name": "HTMLModel",
          "model_module_version": "1.5.0",
          "state": {
            "_dom_classes": [],
            "_model_module": "@jupyter-widgets/controls",
            "_model_module_version": "1.5.0",
            "_model_name": "HTMLModel",
            "_view_count": null,
            "_view_module": "@jupyter-widgets/controls",
            "_view_module_version": "1.5.0",
            "_view_name": "HTMLView",
            "description": "",
            "description_tooltip": null,
            "layout": "IPY_MODEL_075a0d5d2c86485ebb41d874a53d51f4",
            "placeholder": "​",
            "style": "IPY_MODEL_2ddae8a1b6b0445796ccc6a4ecc6c233",
            "value": "merges.txt: 100%"
          }
        },
        "65d5ddddf8154164a7d12a931ad5a89b": {
          "model_module": "@jupyter-widgets/controls",
          "model_name": "FloatProgressModel",
          "model_module_version": "1.5.0",
          "state": {
            "_dom_classes": [],
            "_model_module": "@jupyter-widgets/controls",
            "_model_module_version": "1.5.0",
            "_model_name": "FloatProgressModel",
            "_view_count": null,
            "_view_module": "@jupyter-widgets/controls",
            "_view_module_version": "1.5.0",
            "_view_name": "ProgressView",
            "bar_style": "success",
            "description": "",
            "description_tooltip": null,
            "layout": "IPY_MODEL_8f2ea97d87a444fb8302145104363288",
            "max": 456318,
            "min": 0,
            "orientation": "horizontal",
            "style": "IPY_MODEL_1765a07c7ec14192a7b9a41863804daf",
            "value": 456318
          }
        },
        "76752b002f9f456ba6763ad4f964ea77": {
          "model_module": "@jupyter-widgets/controls",
          "model_name": "HTMLModel",
          "model_module_version": "1.5.0",
          "state": {
            "_dom_classes": [],
            "_model_module": "@jupyter-widgets/controls",
            "_model_module_version": "1.5.0",
            "_model_name": "HTMLModel",
            "_view_count": null,
            "_view_module": "@jupyter-widgets/controls",
            "_view_module_version": "1.5.0",
            "_view_name": "HTMLView",
            "description": "",
            "description_tooltip": null,
            "layout": "IPY_MODEL_5fa357df691840d48260561d30bde148",
            "placeholder": "​",
            "style": "IPY_MODEL_288981c972c343298f5e8f6b7186dfa1",
            "value": " 456k/456k [00:00&lt;00:00, 7.86MB/s]"
          }
        },
        "7b5b9b468c9f49f3be4b47b1faea6f7c": {
          "model_module": "@jupyter-widgets/base",
          "model_name": "LayoutModel",
          "model_module_version": "1.2.0",
          "state": {
            "_model_module": "@jupyter-widgets/base",
            "_model_module_version": "1.2.0",
            "_model_name": "LayoutModel",
            "_view_count": null,
            "_view_module": "@jupyter-widgets/base",
            "_view_module_version": "1.2.0",
            "_view_name": "LayoutView",
            "align_content": null,
            "align_items": null,
            "align_self": null,
            "border": null,
            "bottom": null,
            "display": null,
            "flex": null,
            "flex_flow": null,
            "grid_area": null,
            "grid_auto_columns": null,
            "grid_auto_flow": null,
            "grid_auto_rows": null,
            "grid_column": null,
            "grid_gap": null,
            "grid_row": null,
            "grid_template_areas": null,
            "grid_template_columns": null,
            "grid_template_rows": null,
            "height": null,
            "justify_content": null,
            "justify_items": null,
            "left": null,
            "margin": null,
            "max_height": null,
            "max_width": null,
            "min_height": null,
            "min_width": null,
            "object_fit": null,
            "object_position": null,
            "order": null,
            "overflow": null,
            "overflow_x": null,
            "overflow_y": null,
            "padding": null,
            "right": null,
            "top": null,
            "visibility": null,
            "width": null
          }
        },
        "075a0d5d2c86485ebb41d874a53d51f4": {
          "model_module": "@jupyter-widgets/base",
          "model_name": "LayoutModel",
          "model_module_version": "1.2.0",
          "state": {
            "_model_module": "@jupyter-widgets/base",
            "_model_module_version": "1.2.0",
            "_model_name": "LayoutModel",
            "_view_count": null,
            "_view_module": "@jupyter-widgets/base",
            "_view_module_version": "1.2.0",
            "_view_name": "LayoutView",
            "align_content": null,
            "align_items": null,
            "align_self": null,
            "border": null,
            "bottom": null,
            "display": null,
            "flex": null,
            "flex_flow": null,
            "grid_area": null,
            "grid_auto_columns": null,
            "grid_auto_flow": null,
            "grid_auto_rows": null,
            "grid_column": null,
            "grid_gap": null,
            "grid_row": null,
            "grid_template_areas": null,
            "grid_template_columns": null,
            "grid_template_rows": null,
            "height": null,
            "justify_content": null,
            "justify_items": null,
            "left": null,
            "margin": null,
            "max_height": null,
            "max_width": null,
            "min_height": null,
            "min_width": null,
            "object_fit": null,
            "object_position": null,
            "order": null,
            "overflow": null,
            "overflow_x": null,
            "overflow_y": null,
            "padding": null,
            "right": null,
            "top": null,
            "visibility": null,
            "width": null
          }
        },
        "2ddae8a1b6b0445796ccc6a4ecc6c233": {
          "model_module": "@jupyter-widgets/controls",
          "model_name": "DescriptionStyleModel",
          "model_module_version": "1.5.0",
          "state": {
            "_model_module": "@jupyter-widgets/controls",
            "_model_module_version": "1.5.0",
            "_model_name": "DescriptionStyleModel",
            "_view_count": null,
            "_view_module": "@jupyter-widgets/base",
            "_view_module_version": "1.2.0",
            "_view_name": "StyleView",
            "description_width": ""
          }
        },
        "8f2ea97d87a444fb8302145104363288": {
          "model_module": "@jupyter-widgets/base",
          "model_name": "LayoutModel",
          "model_module_version": "1.2.0",
          "state": {
            "_model_module": "@jupyter-widgets/base",
            "_model_module_version": "1.2.0",
            "_model_name": "LayoutModel",
            "_view_count": null,
            "_view_module": "@jupyter-widgets/base",
            "_view_module_version": "1.2.0",
            "_view_name": "LayoutView",
            "align_content": null,
            "align_items": null,
            "align_self": null,
            "border": null,
            "bottom": null,
            "display": null,
            "flex": null,
            "flex_flow": null,
            "grid_area": null,
            "grid_auto_columns": null,
            "grid_auto_flow": null,
            "grid_auto_rows": null,
            "grid_column": null,
            "grid_gap": null,
            "grid_row": null,
            "grid_template_areas": null,
            "grid_template_columns": null,
            "grid_template_rows": null,
            "height": null,
            "justify_content": null,
            "justify_items": null,
            "left": null,
            "margin": null,
            "max_height": null,
            "max_width": null,
            "min_height": null,
            "min_width": null,
            "object_fit": null,
            "object_position": null,
            "order": null,
            "overflow": null,
            "overflow_x": null,
            "overflow_y": null,
            "padding": null,
            "right": null,
            "top": null,
            "visibility": null,
            "width": null
          }
        },
        "1765a07c7ec14192a7b9a41863804daf": {
          "model_module": "@jupyter-widgets/controls",
          "model_name": "ProgressStyleModel",
          "model_module_version": "1.5.0",
          "state": {
            "_model_module": "@jupyter-widgets/controls",
            "_model_module_version": "1.5.0",
            "_model_name": "ProgressStyleModel",
            "_view_count": null,
            "_view_module": "@jupyter-widgets/base",
            "_view_module_version": "1.2.0",
            "_view_name": "StyleView",
            "bar_color": null,
            "description_width": ""
          }
        },
        "5fa357df691840d48260561d30bde148": {
          "model_module": "@jupyter-widgets/base",
          "model_name": "LayoutModel",
          "model_module_version": "1.2.0",
          "state": {
            "_model_module": "@jupyter-widgets/base",
            "_model_module_version": "1.2.0",
            "_model_name": "LayoutModel",
            "_view_count": null,
            "_view_module": "@jupyter-widgets/base",
            "_view_module_version": "1.2.0",
            "_view_name": "LayoutView",
            "align_content": null,
            "align_items": null,
            "align_self": null,
            "border": null,
            "bottom": null,
            "display": null,
            "flex": null,
            "flex_flow": null,
            "grid_area": null,
            "grid_auto_columns": null,
            "grid_auto_flow": null,
            "grid_auto_rows": null,
            "grid_column": null,
            "grid_gap": null,
            "grid_row": null,
            "grid_template_areas": null,
            "grid_template_columns": null,
            "grid_template_rows": null,
            "height": null,
            "justify_content": null,
            "justify_items": null,
            "left": null,
            "margin": null,
            "max_height": null,
            "max_width": null,
            "min_height": null,
            "min_width": null,
            "object_fit": null,
            "object_position": null,
            "order": null,
            "overflow": null,
            "overflow_x": null,
            "overflow_y": null,
            "padding": null,
            "right": null,
            "top": null,
            "visibility": null,
            "width": null
          }
        },
        "288981c972c343298f5e8f6b7186dfa1": {
          "model_module": "@jupyter-widgets/controls",
          "model_name": "DescriptionStyleModel",
          "model_module_version": "1.5.0",
          "state": {
            "_model_module": "@jupyter-widgets/controls",
            "_model_module_version": "1.5.0",
            "_model_name": "DescriptionStyleModel",
            "_view_count": null,
            "_view_module": "@jupyter-widgets/base",
            "_view_module_version": "1.2.0",
            "_view_name": "StyleView",
            "description_width": ""
          }
        }
      }
    }
  },
  "cells": [
    {
      "cell_type": "markdown",
      "metadata": {
        "id": "view-in-github",
        "colab_type": "text"
      },
      "source": [
        "<a href=\"https://colab.research.google.com/github/AkankshaKapil/AkankshaKapil/blob/main/Blog_Summarization.ipynb\" target=\"_parent\"><img src=\"https://colab.research.google.com/assets/colab-badge.svg\" alt=\"Open In Colab\"/></a>"
      ]
    },
    {
      "cell_type": "code",
      "execution_count": 2,
      "metadata": {
        "colab": {
          "base_uri": "https://localhost:8080/"
        },
        "id": "zNj8zVzHbrty",
        "outputId": "f3061040-99d2-4b3e-bacd-1ce568daeac3"
      },
      "outputs": [
        {
          "output_type": "stream",
          "name": "stdout",
          "text": [
            "Requirement already satisfied: transformers in /usr/local/lib/python3.10/dist-packages (4.44.2)\n",
            "Requirement already satisfied: filelock in /usr/local/lib/python3.10/dist-packages (from transformers) (3.16.0)\n",
            "Requirement already satisfied: huggingface-hub<1.0,>=0.23.2 in /usr/local/lib/python3.10/dist-packages (from transformers) (0.24.7)\n",
            "Requirement already satisfied: numpy>=1.17 in /usr/local/lib/python3.10/dist-packages (from transformers) (1.26.4)\n",
            "Requirement already satisfied: packaging>=20.0 in /usr/local/lib/python3.10/dist-packages (from transformers) (24.1)\n",
            "Requirement already satisfied: pyyaml>=5.1 in /usr/local/lib/python3.10/dist-packages (from transformers) (6.0.2)\n",
            "Requirement already satisfied: regex!=2019.12.17 in /usr/local/lib/python3.10/dist-packages (from transformers) (2024.5.15)\n",
            "Requirement already satisfied: requests in /usr/local/lib/python3.10/dist-packages (from transformers) (2.32.3)\n",
            "Requirement already satisfied: safetensors>=0.4.1 in /usr/local/lib/python3.10/dist-packages (from transformers) (0.4.5)\n",
            "Requirement already satisfied: tokenizers<0.20,>=0.19 in /usr/local/lib/python3.10/dist-packages (from transformers) (0.19.1)\n",
            "Requirement already satisfied: tqdm>=4.27 in /usr/local/lib/python3.10/dist-packages (from transformers) (4.66.5)\n",
            "Requirement already satisfied: fsspec>=2023.5.0 in /usr/local/lib/python3.10/dist-packages (from huggingface-hub<1.0,>=0.23.2->transformers) (2024.6.1)\n",
            "Requirement already satisfied: typing-extensions>=3.7.4.3 in /usr/local/lib/python3.10/dist-packages (from huggingface-hub<1.0,>=0.23.2->transformers) (4.12.2)\n",
            "Requirement already satisfied: charset-normalizer<4,>=2 in /usr/local/lib/python3.10/dist-packages (from requests->transformers) (3.3.2)\n",
            "Requirement already satisfied: idna<4,>=2.5 in /usr/local/lib/python3.10/dist-packages (from requests->transformers) (3.8)\n",
            "Requirement already satisfied: urllib3<3,>=1.21.1 in /usr/local/lib/python3.10/dist-packages (from requests->transformers) (2.0.7)\n",
            "Requirement already satisfied: certifi>=2017.4.17 in /usr/local/lib/python3.10/dist-packages (from requests->transformers) (2024.8.30)\n"
          ]
        }
      ],
      "source": [
        "!pip install transformers"
      ]
    },
    {
      "cell_type": "code",
      "source": [
        "from transformers import pipeline\n",
        "from bs4 import BeautifulSoup\n",
        "import requests\n"
      ],
      "metadata": {
        "id": "T_L9vUpw18Xw"
      },
      "execution_count": 3,
      "outputs": []
    },
    {
      "cell_type": "code",
      "source": [
        "summarizer = pipeline(\"summarization\")\n"
      ],
      "metadata": {
        "colab": {
          "base_uri": "https://localhost:8080/",
          "height": 266,
          "referenced_widgets": [
            "f68c74f47fdf4b8f8929c690421fec44",
            "fa3506c5db164071a9be157e43ebabad",
            "42e1dbdf12ae42d1953fe7dfc9cbfd92",
            "ed9c9167c3e540e1acbb24dd22ddfadb",
            "c3f2cddbd8ce473f8612b786607e1421",
            "94bea26eeee049f2bb9171bbc70db0b2",
            "9e30778baa1149e4893bbf5203cd6ced",
            "adb7aec758ac42b8a42267f0b21378ce",
            "51ce70b4e24e44bead0cd2564ea92250",
            "f0fe2bcd53db4329b227b299f8efc92e",
            "e2eed7c6009e4c768f84ad4adec6f8ec",
            "6aa514f1a597487f9708a9c64eea77d4",
            "db4a8a40b9bc4e818593b69fc96e1ef1",
            "3215e663f2264d4eae69d55588c3c62d",
            "8363d3f6b8f74b19a00a17020a6c3b6a",
            "35ca835bacd74947bcde41dc0f5524cd",
            "a8a480708b504b42843db452130c4331",
            "3e9a18af59b747a88678881b441664fd",
            "422528c4265f47bd8d7efd339aa6789b",
            "3f6575cac2ad47479c8977037ad906ee",
            "4281502d901b45e8afabbff3dd2ae752",
            "7403bebb78894f97a7f4e551303e84bf",
            "71d2048d71ec4620b7599df584e86060",
            "a5aad14e047b405cbb78c658ab0d294d",
            "ce4ae224c21645e7b97ee886c7b8b2ac",
            "558dba0b2f5f4a33bd01e767bd1f76aa",
            "3349b6d6b09b43b48c0746272d91870a",
            "be37f191b68b41c380bd8fbb20dc8dcf",
            "e2a05d9cceae45b7b2bd8a1b8c43a7f2",
            "8b30bfd7f8414b1b8bafb51908a4d02c",
            "7985324db56a4cf3ad5da61e4c435268",
            "5374448c12834e1e8f5785ad1f0a5d07",
            "322b6ceca4314eee8e0c18f5561a99df",
            "b43103df8bc04e4b8742e29e48feebc9",
            "dec7790d66f74a0aa8bf3a2bc4b669a2",
            "5217cb6134464d7ea5b04c0e09b186a8",
            "da69302c329f4f8593d367b45b8f6626",
            "1ce9a2d0731446baa4c8e59f6905c053",
            "f524f1af6d374ee392cd1e82177699d4",
            "652c459be14245609637eae54b936c53",
            "75d8e65e38334a22a6e37aecb08bf524",
            "a27676000cd54e3d99f66b2d3af75160",
            "558a0fcef6d14da4b996053395e5008f",
            "11d68c8727d94c1fbd15e45d7ed2b336",
            "113fa14c3a3943c78ab8ef2f9775953f",
            "77680c2ccea2412ba7f94a7f0de4470a",
            "65d5ddddf8154164a7d12a931ad5a89b",
            "76752b002f9f456ba6763ad4f964ea77",
            "7b5b9b468c9f49f3be4b47b1faea6f7c",
            "075a0d5d2c86485ebb41d874a53d51f4",
            "2ddae8a1b6b0445796ccc6a4ecc6c233",
            "8f2ea97d87a444fb8302145104363288",
            "1765a07c7ec14192a7b9a41863804daf",
            "5fa357df691840d48260561d30bde148",
            "288981c972c343298f5e8f6b7186dfa1"
          ]
        },
        "id": "-hmqzZPT2WtG",
        "outputId": "c2a11890-1d10-4ad4-80a1-d72fdf1184a1"
      },
      "execution_count": 4,
      "outputs": [
        {
          "output_type": "stream",
          "name": "stderr",
          "text": [
            "No model was supplied, defaulted to sshleifer/distilbart-cnn-12-6 and revision a4f8f3e (https://huggingface.co/sshleifer/distilbart-cnn-12-6).\n",
            "Using a pipeline without specifying a model name and revision in production is not recommended.\n"
          ]
        },
        {
          "output_type": "display_data",
          "data": {
            "text/plain": [
              "config.json:   0%|          | 0.00/1.80k [00:00<?, ?B/s]"
            ],
            "application/vnd.jupyter.widget-view+json": {
              "version_major": 2,
              "version_minor": 0,
              "model_id": "f68c74f47fdf4b8f8929c690421fec44"
            }
          },
          "metadata": {}
        },
        {
          "output_type": "display_data",
          "data": {
            "text/plain": [
              "pytorch_model.bin:   0%|          | 0.00/1.22G [00:00<?, ?B/s]"
            ],
            "application/vnd.jupyter.widget-view+json": {
              "version_major": 2,
              "version_minor": 0,
              "model_id": "6aa514f1a597487f9708a9c64eea77d4"
            }
          },
          "metadata": {}
        },
        {
          "output_type": "display_data",
          "data": {
            "text/plain": [
              "tokenizer_config.json:   0%|          | 0.00/26.0 [00:00<?, ?B/s]"
            ],
            "application/vnd.jupyter.widget-view+json": {
              "version_major": 2,
              "version_minor": 0,
              "model_id": "71d2048d71ec4620b7599df584e86060"
            }
          },
          "metadata": {}
        },
        {
          "output_type": "display_data",
          "data": {
            "text/plain": [
              "vocab.json:   0%|          | 0.00/899k [00:00<?, ?B/s]"
            ],
            "application/vnd.jupyter.widget-view+json": {
              "version_major": 2,
              "version_minor": 0,
              "model_id": "b43103df8bc04e4b8742e29e48feebc9"
            }
          },
          "metadata": {}
        },
        {
          "output_type": "display_data",
          "data": {
            "text/plain": [
              "merges.txt:   0%|          | 0.00/456k [00:00<?, ?B/s]"
            ],
            "application/vnd.jupyter.widget-view+json": {
              "version_major": 2,
              "version_minor": 0,
              "model_id": "113fa14c3a3943c78ab8ef2f9775953f"
            }
          },
          "metadata": {}
        },
        {
          "output_type": "stream",
          "name": "stderr",
          "text": [
            "/usr/local/lib/python3.10/dist-packages/transformers/tokenization_utils_base.py:1601: FutureWarning: `clean_up_tokenization_spaces` was not set. It will be set to `True` by default. This behavior will be depracted in transformers v4.45, and will be then set to `False` by default. For more details check this issue: https://github.com/huggingface/transformers/issues/31884\n",
            "  warnings.warn(\n"
          ]
        }
      ]
    },
    {
      "cell_type": "code",
      "source": [
        "\n",
        "URL = \"https://hackernoon.com/will-the-game-stop-with-gamestop-or-is-this-just-the-beginning-2j1x32aa\"\n"
      ],
      "metadata": {
        "id": "UHrwR7wf3l38"
      },
      "execution_count": 5,
      "outputs": []
    },
    {
      "cell_type": "code",
      "source": [
        "r= requests.get(URL)"
      ],
      "metadata": {
        "id": "OBGT90GL5WhW"
      },
      "execution_count": 6,
      "outputs": []
    },
    {
      "cell_type": "code",
      "source": [
        "soup=BeautifulSoup(r.text, 'html.parser')\n",
        "results=soup.find_all(['h1','p'])\n",
        "text=[result.text for result in results]\n",
        "ARTICLE=' '.join(text)\n"
      ],
      "metadata": {
        "id": "K4Cex5Lv5b4I"
      },
      "execution_count": 7,
      "outputs": []
    },
    {
      "cell_type": "code",
      "source": [
        "ARTICLE"
      ],
      "metadata": {
        "colab": {
          "base_uri": "https://localhost:8080/",
          "height": 1000
        },
        "id": "W-H5qK3c5pNx",
        "outputId": "05f0eb05-9d5d-411b-e5b7-3071c2ca1529"
      },
      "execution_count": 8,
      "outputs": [
        {
          "output_type": "execute_result",
          "data": {
            "text/plain": [
              "'Will The Game Stop with Gamestop Or Is This Just The Beginning? The GameStop squeeze on short-sellers is an extraordinary event in markets, where at face value, retail traders and investors have worked together in an attempt to put some of the largest wall street institutions out of business. The events can be interpreted with many viable lenses and there are ironies baked in that are pure serendipity. There has been a centrally controlled game in the global financial system in which insiders benefited while outsiders got hurt that comes to a head with a company called GameStop. The broking firm of most of the retail side of this warfare ‘RobinHood’ is literally stealing from its poor, retail investors to give to its rich, capital backers. One of the historical realities of this game has been that macro-investing – the sages of not only portfolio management, but often also sophisticated social and cultural figures – have had a hard time making money in markets now for decades. With government policy dictating markets in greater degrees since the mid-90’s, the politically connected have been more likely to survive while the sophisticated and capable have been more likely to struggle. Quantitative and high-frequency trading has entered and changed the structure of global markets with this change invited through central banking policy characterised by moral hazard. Commerce and politics has grown closer and so commercial survival has demanded a political edge. Although what I really want to talk about is how market structure has changed since 1995 and how this has contributed to the situation here, a little bit of the history is first required. Drinks on Alan The tequila crises was one of the first events in late 1994, early 1995 in which insiders were bailed out and the might of the U.S. governments political capital was used to organise $50-$80 billion USD in capital for political insiders capital at risk in Mexico.  The big moral hazard there was ex-Goldman Sachs Treasury Secretary Robert Rubin using the state ‘Exchange Stabilisation Fund’ to support a Mexican bailout that protected Goldman Sachs investments. It was Alan Greenspan presiding over the Federal Reserve at the time, meeting with the men in power with sharp suits and important titles. It probably even felt like the right thing to do. This ‘Greenspan put’ as his actions became known in the investing world, fundamentally changed the structure of markets and gave enormous knowledge and power to the politically connected.  (This concept, of a ‘Greenspan put’ refers to the willingness of the Federal Reserve chairman to protect asset prices. A put is insurance against declining asset prices in which the put seller can lose big.) Meet Victor Niederhoffer. Victor Niederhoffer is one of the most successful people alive today.  Niederhoffer studied statistics and economics at Harvard and the University of Chicago, was a finance professor at the University of California and while at college he co-founded an investment bank. Having never picked up a racquet before Harvard, Niederhoffer won the squash national junior title a year later, graduated as the national intercollegiate champion, won the U.S. nationals 5 times and defeated one of the greatest players in the history of the sport in the North American Open, becoming a member of the squash hall of fame. His investment record is tremendous, with an average of a 35% return annualised and once working for fellow legend of funds management George Soros. When it came time for his son to learn the family business, Soros sent his son to Niederhoffer. Niederhoffers books ‘Practical Speculation’ and ‘The Education of a Speculator’ are essential reading for market speculation, a ‘Reminiscences of a Stock Operator’ for the thinking man.  And with changes in how the global financial system became more political, men like Niederhoffer just don’t seem to be around anymore. Maybe they don’t exist anywhere in this limited, unnatural and politically charged environment. Because Victor Niederhoffer, one of the singularly most impressive people you may find, blew his hedge fund up in 1997 in a highly statistically improbable event, in which he sold puts that were targeted by market mechanics, rather than ‘truth’.  A new layer had been added to the Keynesian beauty contest that is global markets, in which leveraged speculators could now make the market so volatile that the entire equity market could change trajectory over a period of months to target rational, risky and forward thinking positions. Normally the type of technical work that the market completed when Niederhoffer sold his puts would prove the future direction of the market so that a speculator could reasonably presume that they were taking a strong risk-adjusted position. The trade setup that emerged in this new type of market - which I call ‘the second bite of the apple’ -is a disadvantage to people who understand markets and understand risk. It takes a professional back to school and adds a new technical layer to fundamental analysis. The market here is more leveraged, more volatile, more aggressive, better for types of trading and worse for investing. The fundamentals no longer matter; and this was demonstrated only 5 years later with what could be the largest bubble of viable assets in history was formed – the NASDAQ bubble in which household blue chip stocks today lost 98% of their value. This was new. It destroyed Niederhoffer, who was quoted by the Washington Post on the day   ‘ “I’ve made that trade hundreds of times in the past 15 years” he whispered “I believe it’s a good trade. It was a one in 2,000 shot that the market would decline like that” ‘ And it baffled many sophisticated market participants for a long time afterwards. But we can actually see a change in the market! When we consider the S&P500 before and after this event (compare A with B), we can see a fundamental change in the market structure, especially in volatility, and how aggressively the market would trade (look at the second squeeze that would almost put his positions offside a second time – if he had them!). Greenspans moral hazard of late 1994/1995 fundamentally changed the market in a new way. Extraordinary people who were never wrong in risk-adjusted terms and who understood markets were carried out of them horizontally by players with leverage, who knew your position, who were more predatory in nature, had no idea about which direction the market headed in, did not care which direction the market ultimately headed in and the people who actually understood and cared about the big picture were now, irrelevant. They would leverage a short position to 500% of the total market capitalisation of the company they were selling simply to crush it into oblivion, and were able to because of a new reality in the global financial system and a new structure in markets. Financial markets were now more poker – positioning, position size and leverage – and less fundamental – for example, what are the future cash-flows of this business? Does this matter? There is a slice of the population, and not a small slice, who would blindly exchange a Niederhoffer for the more savage trader who profited from his demise any day of the week.  Both are rich, successful and perceptibly in the same dirty business, and for a lot of people they might be thrown into the same basket. Why do they care if a hedge fund manager blows up? Well, because we submit that a new epoch of financial markets had begun. We now had a post-modernist, post-truth financial system headed by a mob characterised by a view of their own power and control in which they could manifest truth and reality as they saw fit – but mostly for their mates on the inside. Of course this was fine for the people creating the financial system, because rationalising your own status, your own righteousness in the use of power and your ability to make earth-changing decisions for the benefits of your powerful friends would feel as if things were the way they should be. Why would they care about some hedge-fund managers positions? He knows the game he was getting himself into and should be a generally astute individual, expert in perceiving and managing risk. But this new financial elite establishment DID care about hedge-fund managers losses, just that it was only specific hedge-fund managers that they cared about. In 1998, Long Term Capital Management (LTCM) busted during the 1998 Russian financial crises, losing up to $4.6 billion USD in face value of an approximately $1 billion USD fund. LTCM was founded by a former vice-chairman of Salomon Brothers (of legendary fame in bonds) and their board included Myron S. Scholes and Robert C. Merton of Black-Scholes fame, who won the Nobel Memorial Prize in Economic Sciences in 1997 for their revolutionary equation in options pricing. Their strategy was extremely highly leveraged (debt to equity over 25:1) trading to lock markets up with theoretical modelling overlays onto the real-world market reality.   At face-value LTCM relied on expertise, but in practice it relied on size and reputation of the people involved, evidenced by its catastrophic failure. To cut a long story short, Alan Greenspans Federal Reserve brokered a deal to rescue LTCM with the benefactor of that deal being Goldman Sachs, who had access to the assets sold at firesale – again a benefactor of the interventions of public institutions filled with their own alumni. The Federal Reserve provided $3.6 billion USD of recapitalisation. For Victor Niederhoffer there is some circular logic that emerges here, that spites and gaslights. LTCM was a group of insiders using incredible amounts of leverage to make wrong decisions in markets. Their existence is precipitated in the dangerous new world of Greenspans Federal Reserve, yet a world in which they ultimately fail on paper, are bailed out in practice.   It spites Niederhoffer because the impact on the market as a result of their failure is the best piece of evidence that Victor Niederhoffer was ultimately wrong when the positions that he took that ended his career would have been threatened again in 1998 in this asset price collapse (his positions were challenged again in 1998, validating the argument that the aggressive, leveraged, even vicious targeting of his positions was natural after all).  But this irresponsible group, who were wrong, and who would go on to invalidate Niederhoffer, who would have been right before this fundamental change in reality and market structure, were then bailed-out, while he began rebuilding his career brick by brick. With these two famous moral hazards – of the Tequila Crises and LTCM bailout, the qualitative features of global financial markets fundamentally change. The big-picture thinkers who understand macro-level knowledge in a unique and sophisticated form give way to aggressive, predatory, leveraged, profit taking machinery.  The result had been written in, in 1995. 1995-2008 was one epoch As time went on, events in 1995 and 1998 became the Nasdaq bubble, the Federal Reserve policy response to the Nasdaq bubble became the housing bubble that led into the global financial crisis. The Global Financial Crisis of 2008 was a result of Greenspans put money and the financial institutions writing the rules for financial institutions. Bear Sterns was allowed to fail and Goldman Sachs got bailout money. Macro-investors like Niederhoffer were never less successful around this time onward, and Victor Niederhoffer blew his fund up a second time during this period. Market speculation was now more purely a highly leveraged, volatile and aggressive game in which fundamentals essentially did not matter. The politically connected were able to exploit event risk, with insider knowledge providing superior returns. The Federal Reserve now provided returns. 2008-2020 was another epoch After 25 years of this phenomenon creeping into global markets, in 2020, the public were ahead of it for the first time. During the coronavirus collapse, aggressive retail investors bought, perhaps for the first time, assets from mid-tier but professional asset managers at the low and continued purchasing until the same mid-tier managers were forced to buy back from retail significantly higher. This was, of course, in unison with aggressive professionals in investment banks (We saw this in the 2020 financial results of these firms) including Goldman Sachs and J.P. Morgan (this co-operation of position may also be the case with GameStop). Now in 2021 we have a new epoch: Game Stop. On the one side we have a faceless mob.  Internet-going redditors at r/wallstreetbets with an expertise in meme magic pit themselves against the out of position hedge-funds that include Stephen Cohen’s Point72, Andrew Left’s Citron Capital, Alex Flynn’s Melvin Capital, Dan Sunheim’s D1 Capital Partners, Maplelane Capital and Candlestick Capital Management and with a total value of something like $55 billion USD. The story behind gamestop is that retail investors calculated a vulnerability in market structure – not unlike the firms and traders who put Niederhoffer out of business – They saw that the highly leveraged, aggressive short position of a handleful of many billion dollar hedge funds were out of position, over-committed to the liquidity and leverage of what they were attempting. In short, the short-selling machine was wrong under the rules of the game that were established just before Victor Niederhoffer sold the family silverware and mortgaged his home to survive. The new rules would now be turned against those who had created and used them for so long.  Part of the strategy uses short-dated options, in which options traders and market makers must cover their positions, where significant leverage means that a $500 position might allow up to hundreds of thousands of dollars in short term exposure < 1 or 2 weeks, and that as the market gets closer to that price, the options market maker must purchase the full amount of the underlying asset of the options. Adding to the confusion is that the fact that the majority of these trades are through a broker called ‘RobinHood’. Established in 2013, RobinHood once published a tweet that said ‘Let the people trade! Robinhood is ‘free’ because it sells its order-flow to high frequency trading firms, with its largest partner being Citadel, a hedge fund.  Citadel has covered Melvin Capitals losses, one of the losing hedge funds in GameStop with upto $3 billion, along with the fund Point72. With Citadel financially supporting the losing hedge-funds, RobinHood banned trade in the affected stocks in the Thursday, 28th January trading session. Where it is literally named after a man who stole from the rich to give to the poor, Robinhood has stolen from the poor to give to the rich. Now there is a rumour that they require funding, and that there are serious problems in the broker-dealer network. But perhaps the bigger problem is that the cynicism of Alan Greenspan, Bill Clinton and Robert Rubin having a meeting in the white-house and deciding to spend public money to bail-out a failed Goldman Sachs deal in Mexico has now spread to the entirety of global financial market participants. The market leverage, volatility, aggression and instability that saw Victor Niederhoffer lose his fund has been normalised.  There are no fundamentals. The game, as it turns out, is pure game.  The response from r/WallStreetBets on reddit is part joker and part Count of Monte Cristo. There is little fear of experiencing losses, and they are interested in punitively claiming a moral victory while using the systems logic against it. Profit is a motive, but is almost a second tier motive. And the response from the institutional side has been, pathetic. Discord banned their r/WallStreetBets chat, RobinHood shut down trading in the assets affected, the Nasdaq said they were ‘monitoring social media’, and there was apoplexy from the establishment financial services, with hedge fund billionaire Leon Cooperman - who had previously been prosecuted for insider trading and came to an agreement with the SEC -  complained about retail traders getting ‘checks from the government’ (Yes, a hedge fund manager complaining that other people were getting government help) responding to a call to tax wealth as ‘a bullshit concept. It’s just a way of attacking wealthy people, and I think it’s inappropriate’. Our sober conclusion is that the global financial system may simply not survive this total moral failure of making it so plainly clear that two sets of rules exist, with this contradiction exposed at a very vulnerable time. If we are correct, and the broken structure of these markets continues to create opportunities that damage risk models, force major losses, corrupt the integrity of brokers, condemn the retail investor and cause major volatility events, we expect more and more from the financial media, whimpering about the problems that they have promoted, participated in and exploited, a broken set of over-leveraged markets weighted towards insiders, dependent on government handouts, that buries a Victor Niederhoffer while rewarding the destruction of the global market pricing mechanism.  And it’s only when the average man on the street participates in their game with their rules, that we hear a complaint, half whimper, half anger. The collective voices in the financial media carrying water for the billionaires who lost money in the game that they perpetuated,  ‘Game, Stop!’ By Thomas Kuhn, CFA  Closing Notes Back to Victor on GameStop We circle back to Victor Niederhoffer, who writes in a blog almost daily. His post is reminiscent of his own experiences. https://wsj.com/articles/the-day-trading-barbarians-at-the-gate-wont-sack-wall-street-11611660505… it isn\\'t cricket used to provide nutrients for infrastructure. Public to provide food for those on higher trophic levels as bacon would say \" the public has no rite to be ahead of the form especially when the trainers are betting against them the horse that were shipped from Florida to NY. are now getting accustomed to track. https://sites.google.com/view/casinoreviews/blog/the-ideology-behind-online-casino-games… first and foremost rule \" the House Must Win\". Its not cricket the public is winning , some top feeders are losing. . the Fed is part of the infrastructure. and they have to do something to stop the public from winning. expect them to beg forbearance from fellow colleagues at Treasury and House and to do something bear. There must be a winning team in south of NY (wall street) . action must be taken. high frequency trading must continue apace,  so however, a temporary cessation of bullish profits for the public will be enough to extend reliance on agrarian ideas. A very sagacious man tweets that a agrarian woman will be yelling. I disagree. one thing we can all agree on is that the be all and end all is for the trophic levels, the sharks to eat the bass —- to be upheld even if two days may lose some gamester support. But the most telling part of Victors post that day, was the end. Victor is now 77 years old, with, as we described, many of those years spent in battle with the house, battling the Fed, battling trophic levels in which LTCM is bailed out and he goes under, seeing how the system works from a humiliating defeat, that there must be a winning team in wall street. But he has something more important to worry about now. ‘Don\\'t expect any pointed posts from me tomorrow( i try to keep them innocuous as I lose a google of followers every time i stray from the Woke.) I have 5 health procedures scheduled for tomorrow culminating in the draining of my left leg which is bigger than Game Stop rise. https://youtube.com/watch?v=Bf4-SBA2Ed8…’ and a conclusion that could be very foreboding ‘The time to stop this infernal topsy turvy market where the bags are temporarily losing to the public. and the serial correlation that supports this in part. But remember old turkey partridges adman. ITs a bull market. after two days look for bull and yet. if it goes down too much before the announcement , a stern meeting at the camp Kinsella woodworking commune may be scheduled in order to varnish a few words.’ Get well soon, Victor. Previously published at https://www.monetaryprotestant.com/post/does-the-game-stop-with-gamestop'"
            ],
            "application/vnd.google.colaboratory.intrinsic+json": {
              "type": "string"
            }
          },
          "metadata": {},
          "execution_count": 8
        }
      ]
    },
    {
      "cell_type": "code",
      "source": [
        "ARTICLE = ARTICLE.replace('.', '.<eos>')\n",
        "ARTICLE = ARTICLE.replace('?', '?<eos>')\n",
        "ARTICLE = ARTICLE.replace('!', '!<eos>')\n",
        "sentences = ARTICLE.split('<eos>')"
      ],
      "metadata": {
        "id": "Uk4fOmD45sTK"
      },
      "execution_count": 9,
      "outputs": []
    },
    {
      "cell_type": "code",
      "source": [
        "sentences"
      ],
      "metadata": {
        "colab": {
          "base_uri": "https://localhost:8080/"
        },
        "id": "91imSSsE8Rgk",
        "outputId": "7708dd89-dec0-4e6b-b588-119b702ece6a"
      },
      "execution_count": 10,
      "outputs": [
        {
          "output_type": "execute_result",
          "data": {
            "text/plain": [
              "['Will The Game Stop with Gamestop Or Is This Just The Beginning?',\n",
              " ' The GameStop squeeze on short-sellers is an extraordinary event in markets, where at face value, retail traders and investors have worked together in an attempt to put some of the largest wall street institutions out of business.',\n",
              " ' The events can be interpreted with many viable lenses and there are ironies baked in that are pure serendipity.',\n",
              " ' There has been a centrally controlled game in the global financial system in which insiders benefited while outsiders got hurt that comes to a head with a company called GameStop.',\n",
              " ' The broking firm of most of the retail side of this warfare ‘RobinHood’ is literally stealing from its poor, retail investors to give to its rich, capital backers.',\n",
              " ' One of the historical realities of this game has been that macro-investing – the sages of not only portfolio management, but often also sophisticated social and cultural figures – have had a hard time making money in markets now for decades.',\n",
              " ' With government policy dictating markets in greater degrees since the mid-90’s, the politically connected have been more likely to survive while the sophisticated and capable have been more likely to struggle.',\n",
              " ' Quantitative and high-frequency trading has entered and changed the structure of global markets with this change invited through central banking policy characterised by moral hazard.',\n",
              " ' Commerce and politics has grown closer and so commercial survival has demanded a political edge.',\n",
              " ' Although what I really want to talk about is how market structure has changed since 1995 and how this has contributed to the situation here, a little bit of the history is first required.',\n",
              " ' Drinks on Alan The tequila crises was one of the first events in late 1994, early 1995 in which insiders were bailed out and the might of the U.',\n",
              " 'S.',\n",
              " ' governments political capital was used to organise $50-$80 billion USD in capital for political insiders capital at risk in Mexico.',\n",
              " '  The big moral hazard there was ex-Goldman Sachs Treasury Secretary Robert Rubin using the state ‘Exchange Stabilisation Fund’ to support a Mexican bailout that protected Goldman Sachs investments.',\n",
              " ' It was Alan Greenspan presiding over the Federal Reserve at the time, meeting with the men in power with sharp suits and important titles.',\n",
              " ' It probably even felt like the right thing to do.',\n",
              " ' This ‘Greenspan put’ as his actions became known in the investing world, fundamentally changed the structure of markets and gave enormous knowledge and power to the politically connected.',\n",
              " '  (This concept, of a ‘Greenspan put’ refers to the willingness of the Federal Reserve chairman to protect asset prices.',\n",
              " ' A put is insurance against declining asset prices in which the put seller can lose big.',\n",
              " ') Meet Victor Niederhoffer.',\n",
              " ' Victor Niederhoffer is one of the most successful people alive today.',\n",
              " '  Niederhoffer studied statistics and economics at Harvard and the University of Chicago, was a finance professor at the University of California and while at college he co-founded an investment bank.',\n",
              " ' Having never picked up a racquet before Harvard, Niederhoffer won the squash national junior title a year later, graduated as the national intercollegiate champion, won the U.',\n",
              " 'S.',\n",
              " ' nationals 5 times and defeated one of the greatest players in the history of the sport in the North American Open, becoming a member of the squash hall of fame.',\n",
              " ' His investment record is tremendous, with an average of a 35% return annualised and once working for fellow legend of funds management George Soros.',\n",
              " ' When it came time for his son to learn the family business, Soros sent his son to Niederhoffer.',\n",
              " ' Niederhoffers books ‘Practical Speculation’ and ‘The Education of a Speculator’ are essential reading for market speculation, a ‘Reminiscences of a Stock Operator’ for the thinking man.',\n",
              " '  And with changes in how the global financial system became more political, men like Niederhoffer just don’t seem to be around anymore.',\n",
              " ' Maybe they don’t exist anywhere in this limited, unnatural and politically charged environment.',\n",
              " ' Because Victor Niederhoffer, one of the singularly most impressive people you may find, blew his hedge fund up in 1997 in a highly statistically improbable event, in which he sold puts that were targeted by market mechanics, rather than ‘truth’.',\n",
              " '  A new layer had been added to the Keynesian beauty contest that is global markets, in which leveraged speculators could now make the market so volatile that the entire equity market could change trajectory over a period of months to target rational, risky and forward thinking positions.',\n",
              " ' Normally the type of technical work that the market completed when Niederhoffer sold his puts would prove the future direction of the market so that a speculator could reasonably presume that they were taking a strong risk-adjusted position.',\n",
              " ' The trade setup that emerged in this new type of market - which I call ‘the second bite of the apple’ -is a disadvantage to people who understand markets and understand risk.',\n",
              " ' It takes a professional back to school and adds a new technical layer to fundamental analysis.',\n",
              " ' The market here is more leveraged, more volatile, more aggressive, better for types of trading and worse for investing.',\n",
              " ' The fundamentals no longer matter; and this was demonstrated only 5 years later with what could be the largest bubble of viable assets in history was formed – the NASDAQ bubble in which household blue chip stocks today lost 98% of their value.',\n",
              " ' This was new.',\n",
              " ' It destroyed Niederhoffer, who was quoted by the Washington Post on the day   ‘ “I’ve made that trade hundreds of times in the past 15 years” he whispered “I believe it’s a good trade.',\n",
              " ' It was a one in 2,000 shot that the market would decline like that” ‘ And it baffled many sophisticated market participants for a long time afterwards.',\n",
              " ' But we can actually see a change in the market!',\n",
              " ' When we consider the S&P500 before and after this event (compare A with B), we can see a fundamental change in the market structure, especially in volatility, and how aggressively the market would trade (look at the second squeeze that would almost put his positions offside a second time – if he had them!',\n",
              " ').',\n",
              " ' Greenspans moral hazard of late 1994/1995 fundamentally changed the market in a new way.',\n",
              " ' Extraordinary people who were never wrong in risk-adjusted terms and who understood markets were carried out of them horizontally by players with leverage, who knew your position, who were more predatory in nature, had no idea about which direction the market headed in, did not care which direction the market ultimately headed in and the people who actually understood and cared about the big picture were now, irrelevant.',\n",
              " ' They would leverage a short position to 500% of the total market capitalisation of the company they were selling simply to crush it into oblivion, and were able to because of a new reality in the global financial system and a new structure in markets.',\n",
              " ' Financial markets were now more poker – positioning, position size and leverage – and less fundamental – for example, what are the future cash-flows of this business?',\n",
              " ' Does this matter?',\n",
              " ' There is a slice of the population, and not a small slice, who would blindly exchange a Niederhoffer for the more savage trader who profited from his demise any day of the week.',\n",
              " '  Both are rich, successful and perceptibly in the same dirty business, and for a lot of people they might be thrown into the same basket.',\n",
              " ' Why do they care if a hedge fund manager blows up?',\n",
              " ' Well, because we submit that a new epoch of financial markets had begun.',\n",
              " ' We now had a post-modernist, post-truth financial system headed by a mob characterised by a view of their own power and control in which they could manifest truth and reality as they saw fit – but mostly for their mates on the inside.',\n",
              " ' Of course this was fine for the people creating the financial system, because rationalising your own status, your own righteousness in the use of power and your ability to make earth-changing decisions for the benefits of your powerful friends would feel as if things were the way they should be.',\n",
              " ' Why would they care about some hedge-fund managers positions?',\n",
              " ' He knows the game he was getting himself into and should be a generally astute individual, expert in perceiving and managing risk.',\n",
              " ' But this new financial elite establishment DID care about hedge-fund managers losses, just that it was only specific hedge-fund managers that they cared about.',\n",
              " ' In 1998, Long Term Capital Management (LTCM) busted during the 1998 Russian financial crises, losing up to $4.',\n",
              " '6 billion USD in face value of an approximately $1 billion USD fund.',\n",
              " ' LTCM was founded by a former vice-chairman of Salomon Brothers (of legendary fame in bonds) and their board included Myron S.',\n",
              " ' Scholes and Robert C.',\n",
              " ' Merton of Black-Scholes fame, who won the Nobel Memorial Prize in Economic Sciences in 1997 for their revolutionary equation in options pricing.',\n",
              " ' Their strategy was extremely highly leveraged (debt to equity over 25:1) trading to lock markets up with theoretical modelling overlays onto the real-world market reality.',\n",
              " '   At face-value LTCM relied on expertise, but in practice it relied on size and reputation of the people involved, evidenced by its catastrophic failure.',\n",
              " ' To cut a long story short, Alan Greenspans Federal Reserve brokered a deal to rescue LTCM with the benefactor of that deal being Goldman Sachs, who had access to the assets sold at firesale – again a benefactor of the interventions of public institutions filled with their own alumni.',\n",
              " ' The Federal Reserve provided $3.',\n",
              " '6 billion USD of recapitalisation.',\n",
              " ' For Victor Niederhoffer there is some circular logic that emerges here, that spites and gaslights.',\n",
              " ' LTCM was a group of insiders using incredible amounts of leverage to make wrong decisions in markets.',\n",
              " ' Their existence is precipitated in the dangerous new world of Greenspans Federal Reserve, yet a world in which they ultimately fail on paper, are bailed out in practice.',\n",
              " '   It spites Niederhoffer because the impact on the market as a result of their failure is the best piece of evidence that Victor Niederhoffer was ultimately wrong when the positions that he took that ended his career would have been threatened again in 1998 in this asset price collapse (his positions were challenged again in 1998, validating the argument that the aggressive, leveraged, even vicious targeting of his positions was natural after all).',\n",
              " '  But this irresponsible group, who were wrong, and who would go on to invalidate Niederhoffer, who would have been right before this fundamental change in reality and market structure, were then bailed-out, while he began rebuilding his career brick by brick.',\n",
              " ' With these two famous moral hazards – of the Tequila Crises and LTCM bailout, the qualitative features of global financial markets fundamentally change.',\n",
              " ' The big-picture thinkers who understand macro-level knowledge in a unique and sophisticated form give way to aggressive, predatory, leveraged, profit taking machinery.',\n",
              " '  The result had been written in, in 1995.',\n",
              " ' 1995-2008 was one epoch As time went on, events in 1995 and 1998 became the Nasdaq bubble, the Federal Reserve policy response to the Nasdaq bubble became the housing bubble that led into the global financial crisis.',\n",
              " ' The Global Financial Crisis of 2008 was a result of Greenspans put money and the financial institutions writing the rules for financial institutions.',\n",
              " ' Bear Sterns was allowed to fail and Goldman Sachs got bailout money.',\n",
              " ' Macro-investors like Niederhoffer were never less successful around this time onward, and Victor Niederhoffer blew his fund up a second time during this period.',\n",
              " ' Market speculation was now more purely a highly leveraged, volatile and aggressive game in which fundamentals essentially did not matter.',\n",
              " ' The politically connected were able to exploit event risk, with insider knowledge providing superior returns.',\n",
              " ' The Federal Reserve now provided returns.',\n",
              " ' 2008-2020 was another epoch After 25 years of this phenomenon creeping into global markets, in 2020, the public were ahead of it for the first time.',\n",
              " ' During the coronavirus collapse, aggressive retail investors bought, perhaps for the first time, assets from mid-tier but professional asset managers at the low and continued purchasing until the same mid-tier managers were forced to buy back from retail significantly higher.',\n",
              " ' This was, of course, in unison with aggressive professionals in investment banks (We saw this in the 2020 financial results of these firms) including Goldman Sachs and J.',\n",
              " 'P.',\n",
              " ' Morgan (this co-operation of position may also be the case with GameStop).',\n",
              " ' Now in 2021 we have a new epoch: Game Stop.',\n",
              " ' On the one side we have a faceless mob.',\n",
              " '  Internet-going redditors at r/wallstreetbets with an expertise in meme magic pit themselves against the out of position hedge-funds that include Stephen Cohen’s Point72, Andrew Left’s Citron Capital, Alex Flynn’s Melvin Capital, Dan Sunheim’s D1 Capital Partners, Maplelane Capital and Candlestick Capital Management and with a total value of something like $55 billion USD.',\n",
              " ' The story behind gamestop is that retail investors calculated a vulnerability in market structure – not unlike the firms and traders who put Niederhoffer out of business – They saw that the highly leveraged, aggressive short position of a handleful of many billion dollar hedge funds were out of position, over-committed to the liquidity and leverage of what they were attempting.',\n",
              " ' In short, the short-selling machine was wrong under the rules of the game that were established just before Victor Niederhoffer sold the family silverware and mortgaged his home to survive.',\n",
              " ' The new rules would now be turned against those who had created and used them for so long.',\n",
              " '  Part of the strategy uses short-dated options, in which options traders and market makers must cover their positions, where significant leverage means that a $500 position might allow up to hundreds of thousands of dollars in short term exposure < 1 or 2 weeks, and that as the market gets closer to that price, the options market maker must purchase the full amount of the underlying asset of the options.',\n",
              " ' Adding to the confusion is that the fact that the majority of these trades are through a broker called ‘RobinHood’.',\n",
              " ' Established in 2013, RobinHood once published a tweet that said ‘Let the people trade!',\n",
              " ' Robinhood is ‘free’ because it sells its order-flow to high frequency trading firms, with its largest partner being Citadel, a hedge fund.',\n",
              " '  Citadel has covered Melvin Capitals losses, one of the losing hedge funds in GameStop with upto $3 billion, along with the fund Point72.',\n",
              " ' With Citadel financially supporting the losing hedge-funds, RobinHood banned trade in the affected stocks in the Thursday, 28th January trading session.',\n",
              " ' Where it is literally named after a man who stole from the rich to give to the poor, Robinhood has stolen from the poor to give to the rich.',\n",
              " ' Now there is a rumour that they require funding, and that there are serious problems in the broker-dealer network.',\n",
              " ' But perhaps the bigger problem is that the cynicism of Alan Greenspan, Bill Clinton and Robert Rubin having a meeting in the white-house and deciding to spend public money to bail-out a failed Goldman Sachs deal in Mexico has now spread to the entirety of global financial market participants.',\n",
              " ' The market leverage, volatility, aggression and instability that saw Victor Niederhoffer lose his fund has been normalised.',\n",
              " '  There are no fundamentals.',\n",
              " ' The game, as it turns out, is pure game.',\n",
              " '  The response from r/WallStreetBets on reddit is part joker and part Count of Monte Cristo.',\n",
              " ' There is little fear of experiencing losses, and they are interested in punitively claiming a moral victory while using the systems logic against it.',\n",
              " ' Profit is a motive, but is almost a second tier motive.',\n",
              " ' And the response from the institutional side has been, pathetic.',\n",
              " ' Discord banned their r/WallStreetBets chat, RobinHood shut down trading in the assets affected, the Nasdaq said they were ‘monitoring social media’, and there was apoplexy from the establishment financial services, with hedge fund billionaire Leon Cooperman - who had previously been prosecuted for insider trading and came to an agreement with the SEC -  complained about retail traders getting ‘checks from the government’ (Yes, a hedge fund manager complaining that other people were getting government help) responding to a call to tax wealth as ‘a bullshit concept.',\n",
              " ' It’s just a way of attacking wealthy people, and I think it’s inappropriate’.',\n",
              " ' Our sober conclusion is that the global financial system may simply not survive this total moral failure of making it so plainly clear that two sets of rules exist, with this contradiction exposed at a very vulnerable time.',\n",
              " ' If we are correct, and the broken structure of these markets continues to create opportunities that damage risk models, force major losses, corrupt the integrity of brokers, condemn the retail investor and cause major volatility events, we expect more and more from the financial media, whimpering about the problems that they have promoted, participated in and exploited, a broken set of over-leveraged markets weighted towards insiders, dependent on government handouts, that buries a Victor Niederhoffer while rewarding the destruction of the global market pricing mechanism.',\n",
              " '  And it’s only when the average man on the street participates in their game with their rules, that we hear a complaint, half whimper, half anger.',\n",
              " ' The collective voices in the financial media carrying water for the billionaires who lost money in the game that they perpetuated,  ‘Game, Stop!',\n",
              " '’ By Thomas Kuhn, CFA  Closing Notes Back to Victor on GameStop We circle back to Victor Niederhoffer, who writes in a blog almost daily.',\n",
              " ' His post is reminiscent of his own experiences.',\n",
              " ' https://wsj.',\n",
              " \"com/articles/the-day-trading-barbarians-at-the-gate-wont-sack-wall-street-11611660505… it isn't cricket used to provide nutrients for infrastructure.\",\n",
              " ' Public to provide food for those on higher trophic levels as bacon would say \" the public has no rite to be ahead of the form especially when the trainers are betting against them the horse that were shipped from Florida to NY.',\n",
              " ' are now getting accustomed to track.',\n",
              " ' https://sites.',\n",
              " 'google.',\n",
              " 'com/view/casinoreviews/blog/the-ideology-behind-online-casino-games… first and foremost rule \" the House Must Win\".',\n",
              " ' Its not cricket the public is winning , some top feeders are losing.',\n",
              " ' .',\n",
              " ' the Fed is part of the infrastructure.',\n",
              " ' and they have to do something to stop the public from winning.',\n",
              " ' expect them to beg forbearance from fellow colleagues at Treasury and House and to do something bear.',\n",
              " ' There must be a winning team in south of NY (wall street) .',\n",
              " ' action must be taken.',\n",
              " ' high frequency trading must continue apace,  so however, a temporary cessation of bullish profits for the public will be enough to extend reliance on agrarian ideas.',\n",
              " ' A very sagacious man tweets that a agrarian woman will be yelling.',\n",
              " ' I disagree.',\n",
              " ' one thing we can all agree on is that the be all and end all is for the trophic levels, the sharks to eat the bass —- to be upheld even if two days may lose some gamester support.',\n",
              " ' But the most telling part of Victors post that day, was the end.',\n",
              " ' Victor is now 77 years old, with, as we described, many of those years spent in battle with the house, battling the Fed, battling trophic levels in which LTCM is bailed out and he goes under, seeing how the system works from a humiliating defeat, that there must be a winning team in wall street.',\n",
              " ' But he has something more important to worry about now.',\n",
              " \" ‘Don't expect any pointed posts from me tomorrow( i try to keep them innocuous as I lose a google of followers every time i stray from the Woke.\",\n",
              " ') I have 5 health procedures scheduled for tomorrow culminating in the draining of my left leg which is bigger than Game Stop rise.',\n",
              " ' https://youtube.',\n",
              " 'com/watch?',\n",
              " 'v=Bf4-SBA2Ed8…’ and a conclusion that could be very foreboding ‘The time to stop this infernal topsy turvy market where the bags are temporarily losing to the public.',\n",
              " ' and the serial correlation that supports this in part.',\n",
              " ' But remember old turkey partridges adman.',\n",
              " ' ITs a bull market.',\n",
              " ' after two days look for bull and yet.',\n",
              " ' if it goes down too much before the announcement , a stern meeting at the camp Kinsella woodworking commune may be scheduled in order to varnish a few words.',\n",
              " '’ Get well soon, Victor.',\n",
              " ' Previously published at https://www.',\n",
              " 'monetaryprotestant.',\n",
              " 'com/post/does-the-game-stop-with-gamestop']"
            ]
          },
          "metadata": {},
          "execution_count": 10
        }
      ]
    },
    {
      "cell_type": "code",
      "source": [
        "max_chunk=500\n",
        "current_chunk=0\n",
        "chunks=[]\n",
        "for sentence in sentences:\n",
        "  if len(chunks) == current_chunk+1:\n",
        "    if len(chunks[current_chunk])+len(sentence.split(' ')) <= max_chunk:\n",
        "      chunks[current_chunk].extend(sentence.split(' '))\n",
        "    else:\n",
        "      current_chunk+=1\n",
        "      chunks.append(sentence.split(' '))\n",
        "\n",
        "  else:\n",
        "    print(current_chunk)\n",
        "    chunks.append(sentence.split(' '))\n",
        "\n",
        "for chunk_id in range(len(chunks)):\n",
        "  chunks[chunk_id]=' '.join(chunks[chunk_id])"
      ],
      "metadata": {
        "colab": {
          "base_uri": "https://localhost:8080/"
        },
        "id": "E0LYWOFn8W3q",
        "outputId": "b152e140-80ab-453f-cd1c-22f9e01018f8"
      },
      "execution_count": 14,
      "outputs": [
        {
          "output_type": "stream",
          "name": "stdout",
          "text": [
            "0\n"
          ]
        }
      ]
    },
    {
      "cell_type": "code",
      "source": [
        "len(chunks)"
      ],
      "metadata": {
        "colab": {
          "base_uri": "https://localhost:8080/"
        },
        "id": "XzVtbbac9lOq",
        "outputId": "2ae7c3ef-237e-46f8-86e6-507d87083993"
      },
      "execution_count": 15,
      "outputs": [
        {
          "output_type": "execute_result",
          "data": {
            "text/plain": [
              "8"
            ]
          },
          "metadata": {},
          "execution_count": 15
        }
      ]
    },
    {
      "cell_type": "code",
      "source": [
        "chunks[0]"
      ],
      "metadata": {
        "colab": {
          "base_uri": "https://localhost:8080/",
          "height": 643
        },
        "id": "dJ78_702_0Ie",
        "outputId": "dd349e7c-ad26-4e1b-a442-dfd0c0f8e976"
      },
      "execution_count": 16,
      "outputs": [
        {
          "output_type": "execute_result",
          "data": {
            "text/plain": [
              "'Will The Game Stop with Gamestop Or Is This Just The Beginning?  The GameStop squeeze on short-sellers is an extraordinary event in markets, where at face value, retail traders and investors have worked together in an attempt to put some of the largest wall street institutions out of business.  The events can be interpreted with many viable lenses and there are ironies baked in that are pure serendipity.  There has been a centrally controlled game in the global financial system in which insiders benefited while outsiders got hurt that comes to a head with a company called GameStop.  The broking firm of most of the retail side of this warfare ‘RobinHood’ is literally stealing from its poor, retail investors to give to its rich, capital backers.  One of the historical realities of this game has been that macro-investing – the sages of not only portfolio management, but often also sophisticated social and cultural figures – have had a hard time making money in markets now for decades.  With government policy dictating markets in greater degrees since the mid-90’s, the politically connected have been more likely to survive while the sophisticated and capable have been more likely to struggle.  Quantitative and high-frequency trading has entered and changed the structure of global markets with this change invited through central banking policy characterised by moral hazard.  Commerce and politics has grown closer and so commercial survival has demanded a political edge.  Although what I really want to talk about is how market structure has changed since 1995 and how this has contributed to the situation here, a little bit of the history is first required.  Drinks on Alan The tequila crises was one of the first events in late 1994, early 1995 in which insiders were bailed out and the might of the U. S.  governments political capital was used to organise $50-$80 billion USD in capital for political insiders capital at risk in Mexico.   The big moral hazard there was ex-Goldman Sachs Treasury Secretary Robert Rubin using the state ‘Exchange Stabilisation Fund’ to support a Mexican bailout that protected Goldman Sachs investments.  It was Alan Greenspan presiding over the Federal Reserve at the time, meeting with the men in power with sharp suits and important titles.  It probably even felt like the right thing to do.  This ‘Greenspan put’ as his actions became known in the investing world, fundamentally changed the structure of markets and gave enormous knowledge and power to the politically connected.   (This concept, of a ‘Greenspan put’ refers to the willingness of the Federal Reserve chairman to protect asset prices.  A put is insurance against declining asset prices in which the put seller can lose big. ) Meet Victor Niederhoffer.  Victor Niederhoffer is one of the most successful people alive today.'"
            ],
            "application/vnd.google.colaboratory.intrinsic+json": {
              "type": "string"
            }
          },
          "metadata": {},
          "execution_count": 16
        }
      ]
    },
    {
      "cell_type": "code",
      "source": [
        "\n",
        "res = summarizer(chunks, max_length=100, min_length=30, do_sample=False)"
      ],
      "metadata": {
        "id": "WFHfhVI1-zNZ"
      },
      "execution_count": 21,
      "outputs": []
    },
    {
      "cell_type": "code",
      "source": [
        "res"
      ],
      "metadata": {
        "colab": {
          "base_uri": "https://localhost:8080/"
        },
        "id": "vIREcnkw_KYv",
        "outputId": "8cd0a09c-1d4f-4ed1-d49f-4d64ed1307ee"
      },
      "execution_count": 22,
      "outputs": [
        {
          "output_type": "execute_result",
          "data": {
            "text/plain": [
              "[{'summary_text': ' The GameStop squeeze on short-sellers is an extraordinary event in markets, where at face value, retail traders and investors have worked together in an attempt to put some of the largest wall street institutions out of business . The broking firm of most of the retail side of this warfare ‘RobinHood’ is stealing from its poor, retail investors to give to its rich, capital backers .'},\n",
              " {'summary_text': ' Victor Niederhoffer blew his hedge fund up in 1997 in a highly statistically improbable event, in which he sold puts that were targeted by market mechanics, rather than ‘truth’. The market here is more leveraged, more volatile, more aggressive, better for types of trading and worse for investing. The fundamentals no longer matter; and this was demonstrated only 5 years later with what could be the largest bubble of viable assets in history .'},\n",
              " {'summary_text': ' Greenspans moral hazard of late 1994/1995 fundamentally changed the market in a new way . Extraordinary people who were never wrong in risk-adjusted terms and who understood markets were carried out of them horizontally by players with leverage . Financial markets were now more poker – positioning, position size and leverage – and less fundamental – what are the future cash-flows of this business?  Does this matter?'},\n",
              " {'summary_text': ' In 1998, Long Term Capital Management (LTCM) busted during the 1998 Russian financial crises, losing up to $4.6 billion USD in face value of an approximately $1 billion USD fund . Alan Greenspans Federal Reserve brokered a deal to rescue LTCM with Goldman Sachs, who had access to the assets sold at firesale – again a benefactor of the interventions of public institutions filled with their own alumni .'},\n",
              " {'summary_text': ' Market speculation was now purely a highly leveraged, volatile and aggressive game in which fundamentals essentially did not matter . The politically connected were able to exploit event risk, with insider knowledge providing superior returns . 2008-2020 was another epoch . Now in 2021 we have a new epoch: Game Stop .'},\n",
              " {'summary_text': ' Robinhood is ‘free’ because it sells its order-flow to high frequency trading firms, with its largest partner being Citadel, a hedge fund . Citadel has covered Melvin Capitals losses, one of the losing hedge funds in GameStop with upto $3 billion, along with the fund Point72 . Robinhood has stolen from the poor to give to the rich . Now there is a rumour that they require funding, and that there are serious problems in the broker-deal'},\n",
              " {'summary_text': ' The collective voices in the financial media carrying water for the billionaires who lost money in the game that they perpetuated, ‘Game, Stop! ’ ’ By Thomas Kuhn, CFA, “It’s only when the average man on the street participates in their game with their rules, that we hear a complaint, half whimper, half anger .'},\n",
              " {'summary_text': ' If it goes down too much before the announcement, a stern meeting at the camp Kinsella woodworking commune may be scheduled in order to varnish a few words . But remember old turkey partridges adman .'}]"
            ]
          },
          "metadata": {},
          "execution_count": 22
        }
      ]
    },
    {
      "cell_type": "code",
      "source": [
        "text= ' '.join([summ['summary_text'] for summ in res])\n"
      ],
      "metadata": {
        "id": "aD4VVyWZ_-Gx"
      },
      "execution_count": 26,
      "outputs": []
    },
    {
      "cell_type": "code",
      "source": [
        "text"
      ],
      "metadata": {
        "colab": {
          "base_uri": "https://localhost:8080/",
          "height": 660
        },
        "id": "StBm-9acC-fX",
        "outputId": "0f11c518-f84f-4085-d9d9-8cd36f669e93"
      },
      "execution_count": 27,
      "outputs": [
        {
          "output_type": "execute_result",
          "data": {
            "text/plain": [
              "' The GameStop squeeze on short-sellers is an extraordinary event in markets, where at face value, retail traders and investors have worked together in an attempt to put some of the largest wall street institutions out of business . The broking firm of most of the retail side of this warfare ‘RobinHood’ is stealing from its poor, retail investors to give to its rich, capital backers .  Victor Niederhoffer blew his hedge fund up in 1997 in a highly statistically improbable event, in which he sold puts that were targeted by market mechanics, rather than ‘truth’. The market here is more leveraged, more volatile, more aggressive, better for types of trading and worse for investing. The fundamentals no longer matter; and this was demonstrated only 5 years later with what could be the largest bubble of viable assets in history .  Greenspans moral hazard of late 1994/1995 fundamentally changed the market in a new way . Extraordinary people who were never wrong in risk-adjusted terms and who understood markets were carried out of them horizontally by players with leverage . Financial markets were now more poker – positioning, position size and leverage – and less fundamental – what are the future cash-flows of this business?  Does this matter?  In 1998, Long Term Capital Management (LTCM) busted during the 1998 Russian financial crises, losing up to $4.6 billion USD in face value of an approximately $1 billion USD fund . Alan Greenspans Federal Reserve brokered a deal to rescue LTCM with Goldman Sachs, who had access to the assets sold at firesale – again a benefactor of the interventions of public institutions filled with their own alumni .  Market speculation was now purely a highly leveraged, volatile and aggressive game in which fundamentals essentially did not matter . The politically connected were able to exploit event risk, with insider knowledge providing superior returns . 2008-2020 was another epoch . Now in 2021 we have a new epoch: Game Stop .  Robinhood is ‘free’ because it sells its order-flow to high frequency trading firms, with its largest partner being Citadel, a hedge fund . Citadel has covered Melvin Capitals losses, one of the losing hedge funds in GameStop with upto $3 billion, along with the fund Point72 . Robinhood has stolen from the poor to give to the rich . Now there is a rumour that they require funding, and that there are serious problems in the broker-deal  The collective voices in the financial media carrying water for the billionaires who lost money in the game that they perpetuated, ‘Game, Stop! ’ ’ By Thomas Kuhn, CFA, “It’s only when the average man on the street participates in their game with their rules, that we hear a complaint, half whimper, half anger .  If it goes down too much before the announcement, a stern meeting at the camp Kinsella woodworking commune may be scheduled in order to varnish a few words . But remember old turkey partridges adman .'"
            ],
            "application/vnd.google.colaboratory.intrinsic+json": {
              "type": "string"
            }
          },
          "metadata": {},
          "execution_count": 27
        }
      ]
    },
    {
      "cell_type": "code",
      "source": [
        "with open('blog_summary.txt','w') as f:\n",
        "  f.write(text)"
      ],
      "metadata": {
        "id": "PpuUMDFFALu-"
      },
      "execution_count": 28,
      "outputs": []
    },
    {
      "cell_type": "code",
      "source": [],
      "metadata": {
        "id": "4Ccbr-sZDJac"
      },
      "execution_count": null,
      "outputs": []
    }
  ]
}